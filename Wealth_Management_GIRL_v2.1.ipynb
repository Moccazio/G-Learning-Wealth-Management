{
 "cells": [
  {
   "cell_type": "code",
   "execution_count": null,
   "metadata": {
    "id": "Vc1tLT83PQMd"
   },
   "outputs": [],
   "source": [
    "# ML_in_Finance-GIRL-wealth-management\n",
    "# Author: Igor Halperin and Matthew Dixon\n",
    "# Version: 1.0 (12.8.2019)\n",
    "# License: MIT\n",
    "# Email: ighalp@gmail.com\n",
    "# Notes: tested on Mac OS X with Python 3.6 and PyTorch 1.3.0\n",
    "# Citation: Please cite the following reference if this notebook is used for research purposes:\n",
    "# Dixon M.F., I. Halperin and P. Bilokon, Machine Learning in Finance: From Theory to Practice, Springer Graduate textbook Series, 2020. \n",
    "# \n",
    "# Update: 2025-ß7-08 by Moccazio"
   ]
  },
  {
   "cell_type": "markdown",
   "metadata": {
    "id": "uXdeHDmEPQM6"
   },
   "source": [
    "## Overview \n",
    "\n",
    "This notebook demonstrates the application of G-learning and GIRL for optimization of a defined contribution retirement plan. The notebook extends the G-learning notebook in Chapter 10 with an example of applying GIRL to infer the parameters of the G-learner used to generate the trajectories."
   ]
  },
  {
   "cell_type": "code",
   "execution_count": 2,
   "metadata": {
    "id": "vOoE16hWPQNC"
   },
   "outputs": [],
   "source": [
    "import time\n",
    "import warnings\n",
    "warnings.filterwarnings('ignore')\n",
    "\n",
    "import numpy as np\n",
    "import matplotlib\n",
    "matplotlib.use('Agg')\n",
    "import matplotlib.pyplot as plt \n",
    "%matplotlib inline\n",
    "import torch\n",
    "import torch.optim as optim\n",
    "import pandas as pd\n",
    "import scipy \n",
    "from scipy.optimize import minimize\n",
    "from scipy.stats import linregress\n",
    "from pandas_datareader import data\n",
    "from G_learning_portfolio_opt import G_learning_portfolio_opt\n",
    "from get_loss_function import *\n",
    "import gc\n",
    "%load_ext autoreload\n",
    "\n",
    "%autoreload 2"
   ]
  },
  {
   "cell_type": "code",
   "execution_count": 3,
   "metadata": {
    "colab": {
     "base_uri": "https://localhost:8080/",
     "height": 35
    },
    "id": "M-6MadDnPQNO",
    "outputId": "3beace7c-5af9-41db-c360-65bc53aa23c0"
   },
   "outputs": [
    {
     "data": {
      "text/plain": [
       "'2.7.0'"
      ]
     },
     "execution_count": 3,
     "metadata": {},
     "output_type": "execute_result"
    }
   ],
   "source": [
    "torch.__version__"
   ]
  },
  {
   "cell_type": "code",
   "execution_count": 4,
   "metadata": {
    "colab": {
     "base_uri": "https://localhost:8080/"
    },
    "id": "PHyhUTpJ4nl1",
    "outputId": "55fa7fe3-28dd-4a1e-8686-b3a366652e14"
   },
   "outputs": [
    {
     "name": "stdout",
     "output_type": "stream",
     "text": [
      "env: KMP_DUPLICATE_LIB_OK=TRUE\n"
     ]
    }
   ],
   "source": [
    "%env KMP_DUPLICATE_LIB_OK=TRUE"
   ]
  },
  {
   "cell_type": "code",
   "execution_count": 5,
   "metadata": {
    "id": "S0yKeMU9PQNa"
   },
   "outputs": [],
   "source": [
    "# set the device\n",
    "device = 'mps' if torch.cuda.is_available() else 'cpu'"
   ]
  },
  {
   "cell_type": "markdown",
   "metadata": {
    "id": "N_8XeDlpPQOV"
   },
   "source": [
    "## Simulate portfolio data"
   ]
  },
  {
   "cell_type": "markdown",
   "metadata": {
    "id": "DNFzG5dgPQPB"
   },
   "source": [
    "### Extract market and stock data"
   ]
  },
  {
   "cell_type": "code",
   "execution_count": 6,
   "metadata": {},
   "outputs": [],
   "source": [
    "start_year= 2011 # For CAPM regression\n",
    "end_year=2020\n",
    "R = 0.01/4  # quarterly risk free rate\n",
    "N=252\n",
    "dt = 1\n",
    "num_risky_assets = 99 \n",
    "quarters=['01-01', '03-31', '06-30', '09-30','12-31']\n",
    "start_date=quarters[0] +'-'+str(start_year)\n",
    "end_date=quarters[4] +'-'+str(end_year)\n",
    "periods=[]\n",
    "for year in range(start_year, end_year):\n",
    "    for j in range(0,4):\n",
    "        periods.append(str(year)+'Q'+str(j+1))\n",
    "        \n",
    "bAcquire = False # toggle to True to acquire data        "
   ]
  },
  {
   "cell_type": "code",
   "execution_count": 7,
   "metadata": {},
   "outputs": [],
   "source": [
    "tickers=['AAPL', 'ACLS', 'ADBE', 'ALLT', 'ALOT', 'AMAT', 'AMKR', 'ANSS', 'ASML',\n",
    "       'AVGO', 'AVID', 'AWRE', 'AXTI', 'AZPN', 'BBSI', 'BIDU', 'BLKB', 'BRKS',\n",
    "       'CAMP', 'CCMP', 'CCRN', 'CERN', 'CHKP', 'CPSI', 'CREE', 'CRUS', 'CSCO',\n",
    "       'CSGS', 'CSIQ', 'CSPI', 'CTSH', 'CTXS', 'CVLT', 'DGII', 'DSPG', 'EGAN',\n",
    "       'ELTK', 'EMKR', 'EPAY', 'ERII', 'EVOL', 'EXTR', 'FFIV', 'FISV', 'FLEX',\n",
    "       'FORM', 'FSLR', 'FTNT', 'GLUU', 'GOOG', 'GSIT', 'HIMX', 'HLIT', 'HSII',\n",
    "       'HSTM', 'IDN', 'IMMR', 'INOD', 'INTU', 'IPGP', 'ISSC', 'ITRN', 'IVAC',\n",
    "       'JCOM', 'JKHY', 'JOBS', 'KFRC', 'KOPN', 'KTCC', 'KVHI', 'LOGI', 'LPSN',\n",
    "       'LPTH', 'LRCX', 'LTRX', 'MANH', 'MCHP', 'MGIC', 'MGRC', 'MOSY', 'MPWR',\n",
    "       'MRVL', 'MSFT', 'MSTR', 'MXIM', 'NATI', 'NTAP', 'NTCT', 'NVDA', 'OMCL',\n",
    "       'OSIS', 'OTEX', 'PCTI', 'PDFS', 'PEGA', 'PLAB', 'PLUS', 'PRFT', 'PXLW'] ## 99 symbols"
   ]
  },
  {
   "cell_type": "code",
   "execution_count": 8,
   "metadata": {},
   "outputs": [],
   "source": [
    "if bAcquire:\n",
    "    stock_data = data.DataReader(tickers, 'yahoo', start_date, end_date)['Adj Close']\n",
    "    stock_data.to_csv('stockdata2011-2021.csv', header=tickers)\n",
    "else:\n",
    "    stock_data=pd.read_csv('stockdata2011-2021.csv')\n",
    "    stock_data= stock_data.set_index('Date')\n",
    "    stock_data.index=pd.to_datetime(stock_data.index) "
   ]
  },
  {
   "cell_type": "code",
   "execution_count": 9,
   "metadata": {},
   "outputs": [],
   "source": [
    "if bAcquire:\n",
    "    market_data= data.DataReader('^GSPC', 'yahoo', start_date, end_date)['Adj Close']\n",
    "    market_data.to_csv('marketdata2011-2021.csv', header=['^GSPC'])\n",
    "else:    \n",
    "    market_data=pd.read_csv('marketdata2011-2021.csv')\n",
    "    market_data=market_data.set_index('Date')\n",
    "    market_data.index=pd.to_datetime(market_data.index) "
   ]
  },
  {
   "cell_type": "code",
   "execution_count": 10,
   "metadata": {},
   "outputs": [],
   "source": [
    "risky_asset_returns=stock_data[tickers].pct_change(periods=1)\n",
    "market_returns=market_data.pct_change(periods=1)\n",
    "\n",
    "risky_asset_returns=risky_asset_returns.dropna()\n",
    "market_returns=market_returns.dropna()\n",
    "risky_asset_returns.index=pd.to_datetime(risky_asset_returns.index)  \n",
    "market_returns.index=pd.to_datetime(market_returns.index)  \n",
    "\n",
    "risky_asset_vol = risky_asset_returns.std()\n",
    "market_vol = market_returns.std()"
   ]
  },
  {
   "cell_type": "code",
   "execution_count": 11,
   "metadata": {},
   "outputs": [],
   "source": [
    "# Use CAPM to estimate the expected risky asset returns\n",
    "def get_expected_R_CAPM():\n",
    "    expected_R = pd.DataFrame(index = tickers,columns = periods)\n",
    "    \n",
    "    print(\"Period, R^2, slope, intercept\")\n",
    "    for year in range(start_year+1,end_year):\n",
    "      for j in range(0,4): \n",
    "       \n",
    "        if (j==0): #always fit CAPM from the previous period\n",
    "            mask = (risky_asset_returns.index > str(year-1)+'-'+quarters[2]) & (risky_asset_returns.index < str(year-1)+'-'+quarters[3])\n",
    "        else:    \n",
    "            mask = (risky_asset_returns.index > str(year)+'-'+quarters[j-1]) & (risky_asset_returns.index < str(year)+'-'+quarters[j])\n",
    "        \n",
    "        x = market_returns.loc[mask].values \n",
    "        xs_rets=[]\n",
    "        xs_rets_M=[]\n",
    "        xs_ret_M = (1+np.mean(x))**252/4 -1-R # quarterly excess expected market returns\n",
    "          \n",
    "        for ticker in tickers:\n",
    "           #print(str(year)+'-'+quarters[j])\n",
    "           \n",
    "           if (j==0): #always fit CAPM from the previous period\n",
    "                mask = (stock_data[ticker].index > str(year-1)+'-'+quarters[2]) & (stock_data[ticker].index < str(year-1)+'-'+quarters[3])\n",
    "           else:    \n",
    "                mask = (stock_data[ticker].index > str(year)+'-'+quarters[j-1]) & (stock_data[ticker].index < str(year)+'-'+quarters[j])\n",
    "       \n",
    "           prices = stock_data.loc[mask][ticker].values \n",
    "          \n",
    "           xs_ret= (prices[-1] - prices[0])/prices[0] -R # quarterly excess risky asset returns\n",
    "           \n",
    "           xs_rets.append(xs_ret)\n",
    "            \n",
    "           if (j==0): #always fit CAPM from the previous period\n",
    "             mask = (risky_asset_returns.index > str(year-1)+'-'+quarters[2]) & (risky_asset_returns.index < str(year-1)+'-'+quarters[3])\n",
    "           else:    \n",
    "             mask = (risky_asset_returns.index > str(year)+'-'+quarters[j-1]) & (risky_asset_returns.index < str(year)+'-'+quarters[j])\n",
    "        \n",
    "           y = risky_asset_returns.loc[mask][ticker].values.flatten() # extract all dates in each year      \n",
    "           x = market_returns.loc[mask].values.flatten() \n",
    "           \n",
    "           beta = np.cov(x,y)[0,1]/np.var(x)\n",
    "           xs_rets_M.append(beta*xs_ret_M)\n",
    "            \n",
    "        model=linregress(xs_rets_M,xs_rets) # fit CAPM model\n",
    "        print(str(year)+'-'+str(quarters[j]), model.rvalue, model.intercept, model.slope)\n",
    "        \n",
    "        mask = (risky_asset_returns.index > str(year)+'-'+quarters[j]) & (risky_asset_returns.index < str(year)+'-'+quarters[j+1])\n",
    "        x = market_returns.loc[mask].values.flatten()    \n",
    "        for ticker in tickers:\n",
    "            y = risky_asset_returns.loc[mask][ticker].values.flatten() # extract all dates in each year      \n",
    "            if len(x)==len(y):\n",
    "                beta = np.cov(x,y)[0,1]/np.var(x)\n",
    "                expected_R.loc[ticker,str(year)+'Q'+str(j+1)] = R+ model.intercept + model.slope*beta*((1+np.mean(x))**252/4 -1-R)    \n",
    "            else:\n",
    "                print('Error in ' + ticker + \",\" + str(len(x)) + \",\" + str(len(y)))\n",
    "     \n",
    "    return expected_R"
   ]
  },
  {
   "cell_type": "code",
   "execution_count": 12,
   "metadata": {},
   "outputs": [],
   "source": [
    "# Use OLS on historical training data for each each ticker \n",
    "def get_expected_R_OLS():\n",
    "    expected_R = pd.DataFrame(index = tickers,columns = periods)\n",
    "    \n",
    "    \n",
    "    for ticker in tickers:\n",
    "        print(\"Period, R^2, slope, intercept\")\n",
    "        ys_rets=[]\n",
    "        xs_rets_M=[]\n",
    "        for year in range(start_year+1,end_year-2):\n",
    "              for j in range(0,4): \n",
    "                 if (j==0): #always fit CAPM from the previous period\n",
    "                    mask = (stock_data[ticker].index > str(year-1)+'-'+quarters[2]) & (stock_data[ticker].index < str(year-1)+'-'+quarters[3])\n",
    "                 else:    \n",
    "                    mask = (stock_data[ticker].index > str(year)+'-'+quarters[j-1]) & (stock_data[ticker].index < str(year)+'-'+quarters[j])\n",
    "          \n",
    "                      \n",
    "                 prices = stock_data.loc[mask][ticker].values \n",
    "          \n",
    "                 ys_ret= (prices[-1] - prices[0])/prices[0] -R # quarterly excess risky asset returns\n",
    "           \n",
    "                 ys_rets.append(ys_ret)\n",
    "                  \n",
    "                 if (j==0): #always fit CAPM from the previous period\n",
    "                    mask = (risky_asset_returns.index > str(year-1)+'-'+quarters[2]) & (risky_asset_returns.index < str(year-1)+'-'+quarters[3])\n",
    "                 else:    \n",
    "                    mask = (risky_asset_returns.index > str(year)+'-'+quarters[j-1]) & (risky_asset_returns.index < str(year)+'-'+quarters[j])\n",
    "          \n",
    "                \n",
    "                 x = market_returns.loc[mask].values.flatten() \n",
    "                 xs_ret_M = (1+np.mean(x))**252/4 -1-R # quarterly excess expected market returns\n",
    "                 y = risky_asset_returns.loc[mask][ticker].values.flatten() # extract all dates in each year\n",
    "                \n",
    "                 if len(x)==len(y):\n",
    "                     beta = np.cov(x,y)[0,1]/np.var(x)\n",
    "                     xs_rets_M.append(beta*xs_ret_M)\n",
    "                 else:\n",
    "                     print('Error in ' + ticker + \",\" + str(len(x)) + \",\" + str(len(y)))\n",
    "        model=linregress(xs_rets_M,ys_rets) \n",
    "        \n",
    "        print(ticker, model.rvalue, model.intercept, model.slope)\n",
    "        for year in range(end_year-2,end_year):\n",
    "              for j in range(0,4): \n",
    "                 if (j==0): #always fit CAPM from the previous period\n",
    "                    mask = (risky_asset_returns.index > str(year-1)+'-'+quarters[2]) & (risky_asset_returns.index < str(year-1)+'-'+quarters[3])\n",
    "                 else:    \n",
    "                    mask = (risky_asset_returns.index > str(year)+'-'+quarters[j-1]) & (risky_asset_returns.index < str(year)+'-'+quarters[j])\n",
    "          \n",
    "                 x = market_returns.loc[mask].values.flatten()    \n",
    "                 y = risky_asset_returns.loc[mask][ticker].values.flatten() # extract all dates in each year\n",
    "                 \n",
    "                 if len(x)==len(y):\n",
    "                    beta = np.cov(x,y)[0,1]/np.var(x)\n",
    "                    expected_R.loc[ticker,str(year)+'Q'+str(j+1)] = R+ model.intercept + model.slope*beta*((1+np.mean(x))**252/4 -1-R)    \n",
    "                 else:\n",
    "                    print('Error in ' + ticker + \",\" + str(len(x)) + \",\" + str(len(y)))\n",
    "\n",
    "    return expected_R"
   ]
  },
  {
   "cell_type": "code",
   "execution_count": 13,
   "metadata": {},
   "outputs": [],
   "source": [
    "# Use OLS on historical training data for each each ticker \n",
    "def get_expected_R_Oracle(c):\n",
    "    expected_R = pd.DataFrame(index = tickers,columns = periods)\n",
    "    \n",
    "    \n",
    "    for ticker in tickers:\n",
    "        print(\"Period, R^2, slope, intercept\")\n",
    "        ys_rets=[]\n",
    "        xs_rets_M=[]\n",
    "        \n",
    "        \n",
    "        xs_rets = []\n",
    "        ys_rets = []\n",
    "        for year in range(start_year+1,end_year):\n",
    "              for j in range(0,4): \n",
    "                 if (j==0): #always fit CAPM from the previous period\n",
    "                    mask = (stock_data[ticker].index > str(year-1)+'-'+quarters[2]) & (stock_data[ticker].index < str(year-1)+'-'+quarters[3])\n",
    "                 else:    \n",
    "                    mask = (stock_data[ticker].index > str(year)+'-'+quarters[j-1]) & (stock_data[ticker].index < str(year)+'-'+quarters[j])\n",
    "          \n",
    "                      \n",
    "                 prices = stock_data.loc[mask][ticker].values \n",
    "          \n",
    "                 if (j==0): #always fit CAPM from the previous period\n",
    "                    mask = (risky_asset_returns.index > str(year-1)+'-'+quarters[2]) & (risky_asset_returns.index < str(year-1)+'-'+quarters[3])\n",
    "                 else:    \n",
    "                    mask = (risky_asset_returns.index > str(year)+'-'+quarters[j-1]) & (risky_asset_returns.index < str(year)+'-'+quarters[j])\n",
    "          \n",
    "                    \n",
    "                 y = risky_asset_returns.loc[mask][ticker].values # extract all dates in each year  \n",
    "                 x = market_returns.loc[mask].values \n",
    "                   \n",
    "                 mu = (1+np.mean(x))**252/4 -1-R # quarterly excess expected market returns\n",
    "                 sigma= np.std(x)*2 # scale by sqrt(4)\n",
    "                 if len(x)==len(y):\n",
    "                     \n",
    "                     beta = np.cov(x.flatten(),y.flatten())[0,1]/np.var(x.flatten())\n",
    "                     ret= (prices[-1] - prices[0])/prices[0]# quarterly excess risky asset returns\n",
    "                     xs_rets.append(c*ret + (1-c)*beta*(sigma*np.random.randn() +mu) -R)\n",
    "                     expected_R.loc[ticker,str(year)+'Q'+str(j+1)] = R+xs_rets[-1]    \n",
    "                     ys_rets.append(ret)\n",
    "                 else:\n",
    "                     print('Error in ' + ticker + \",\" + str(len(x)) + \",\" + str(len(y)))\n",
    "        model=linregress(xs_rets,ys_rets) \n",
    "        \n",
    "        print(ticker, model.rvalue, model.intercept, model.slope)\n",
    "                \n",
    "    return expected_R"
   ]
  },
  {
   "cell_type": "code",
   "execution_count": 14,
   "metadata": {},
   "outputs": [
    {
     "name": "stdout",
     "output_type": "stream",
     "text": [
      "Period, R^2, slope, intercept\n",
      "AAPL 0.4128576709992116 0.22975471054968838 0.229217903054285\n",
      "Period, R^2, slope, intercept\n",
      "ACLS -0.2033099271253836 -0.09583206645220543 -0.10233918598992814\n",
      "Period, R^2, slope, intercept\n",
      "ADBE 0.08655997087654393 0.0968686577498772 0.051000171275371625\n",
      "Period, R^2, slope, intercept\n",
      "ALLT -0.2374596996353927 -0.14784605326943645 -0.07812773283811171\n",
      "Period, R^2, slope, intercept\n",
      "ALOT 0.44902253210222953 0.04176381981802089 0.15449920547518134\n",
      "Period, R^2, slope, intercept\n",
      "AMAT -0.17389830024349986 -0.04639333044121124 -0.10119068987517803\n",
      "Period, R^2, slope, intercept\n",
      "AMKR -0.07180193240015613 -0.02952414948030029 -0.043227417686834746\n",
      "Period, R^2, slope, intercept\n",
      "ANSS 0.10161491936575615 0.07072314149968154 0.04651677431576067\n",
      "Period, R^2, slope, intercept\n",
      "ASML 0.07654213625457028 0.0976891448963402 0.04142961717653306\n",
      "Period, R^2, slope, intercept\n",
      "AVGO 0.45062840684470484 0.3413616188123628 0.230534714829632\n",
      "Period, R^2, slope, intercept\n",
      "AVID -0.06774607252665414 -0.04410299279285405 -0.03065335898314621\n",
      "Period, R^2, slope, intercept\n",
      "AWRE -0.003992436717677803 0.03533595454240132 -0.005185845531325019\n",
      "Period, R^2, slope, intercept\n",
      "AXTI -0.24587516037702126 -0.06539401651476616 -0.09931100177257435\n",
      "Period, R^2, slope, intercept\n",
      "AZPN 0.11358411687319861 0.09483959057031027 0.05752130831961697\n",
      "Period, R^2, slope, intercept\n",
      "BBSI 0.24140481109494097 0.17890011626051322 0.14064679107992134\n",
      "Period, R^2, slope, intercept\n",
      "BIDU -0.15695375398156788 -0.09983780669591255 -0.1511535376988804\n",
      "Period, R^2, slope, intercept\n",
      "BLKB 0.19974507279636358 0.0994237436551644 0.07637628817654102\n",
      "Period, R^2, slope, intercept\n",
      "BRKS -0.27334468550489666 -0.09765131417946879 -0.10605111610265393\n",
      "Period, R^2, slope, intercept\n",
      "CAMP 0.22832475394642732 0.10425369314059801 0.08156045932815775\n",
      "Period, R^2, slope, intercept\n",
      "CCMP -0.01553151102625077 0.005164736095203518 -0.008170633573277861\n",
      "Period, R^2, slope, intercept\n",
      "CCRN 0.26538729896415786 0.09893048233632055 0.10893481705605233\n",
      "Period, R^2, slope, intercept\n",
      "CERN 0.01993992233142764 0.05218776821457557 0.009681297740978551\n",
      "Period, R^2, slope, intercept\n",
      "CHKP 0.11062823813985617 0.043414491421271295 0.037284408656611534\n",
      "Period, R^2, slope, intercept\n",
      "CPSI -0.6590967051126126 -0.2010813783443108 -0.300405132226342\n",
      "Period, R^2, slope, intercept\n",
      "CREE -0.12625173781469592 -0.08144495527289905 -0.06469175855324613\n",
      "Period, R^2, slope, intercept\n",
      "CRUS 0.08084649938880457 0.1608093522162419 0.04422520539755634\n",
      "Period, R^2, slope, intercept\n",
      "CSCO 0.1274064830089937 0.06709696098608883 0.04971186509567999\n",
      "Period, R^2, slope, intercept\n",
      "CSGS 0.4614767934622085 0.2715020243164292 0.3210679803306934\n",
      "Period, R^2, slope, intercept\n",
      "CSIQ -0.24298409825675266 -0.3210348591510921 -0.2420539959199815\n",
      "Period, R^2, slope, intercept\n",
      "CSPI 0.09375469990914877 0.06004618590855461 0.06766353832827292\n",
      "Period, R^2, slope, intercept\n",
      "CTSH 0.08180856129138618 0.08313631494875445 0.06276356372405768\n",
      "Period, R^2, slope, intercept\n",
      "CTXS 0.22133645205450167 0.12248381540570648 0.09851950873294907\n",
      "Period, R^2, slope, intercept\n",
      "CVLT 0.08166749765087111 0.053374751521962076 0.0293841977791883\n",
      "Period, R^2, slope, intercept\n",
      "DGII 0.22554340089772487 0.03617476627235247 0.06904263296467247\n",
      "Period, R^2, slope, intercept\n",
      "DSPG 0.1487190475799162 0.06232470331028347 0.06471239719268172\n",
      "Period, R^2, slope, intercept\n",
      "EGAN -0.069821792001542 0.02422236591634979 -0.05952342040251904\n",
      "Period, R^2, slope, intercept\n",
      "ELTK 0.08278764813817371 0.003494243679129078 0.030881832895970896\n",
      "Period, R^2, slope, intercept\n",
      "EMKR 0.35318573740230264 0.21369040129562045 0.15303707514685885\n",
      "Period, R^2, slope, intercept\n",
      "EPAY -0.10466418638584724 -0.06451688383731402 -0.0762463298577984\n",
      "Period, R^2, slope, intercept\n",
      "ERII -0.19054424464797584 -0.06330133999572286 -0.10839864864356744\n",
      "Period, R^2, slope, intercept\n",
      "EVOL 0.08481160790472732 0.027022985433706646 0.05455436253333689\n",
      "Period, R^2, slope, intercept\n",
      "EXTR -0.07049227844148369 0.05330507399874277 -0.03648943255751007\n",
      "Period, R^2, slope, intercept\n",
      "FFIV -0.1977236328777926 -0.08625521553996456 -0.09636569840227291\n",
      "Period, R^2, slope, intercept\n",
      "FISV 0.28356228268985567 0.16957513576238714 0.18377822806512797\n",
      "Period, R^2, slope, intercept\n",
      "FLEX 0.31600418750247544 0.21221760112181165 0.1831483129512711\n",
      "Period, R^2, slope, intercept\n",
      "FORM -0.40848639050709307 -0.16047932326592082 -0.17619113670641348\n",
      "Period, R^2, slope, intercept\n",
      "FSLR 0.05256563367565174 0.05208187872424619 0.05086423980767412\n",
      "Period, R^2, slope, intercept\n",
      "FTNT 0.16742858813838712 0.1284974859529493 0.07901042412612587\n",
      "Period, R^2, slope, intercept\n",
      "GLUU 0.07834387059973738 0.0652646190631268 0.030702719808883693\n",
      "Period, R^2, slope, intercept\n",
      "GOOG 0.20597785889253478 0.12129004626018425 0.08623912312042228\n",
      "Period, R^2, slope, intercept\n",
      "GSIT 0.04747666612832553 0.002848389654809335 0.01987888268538605\n",
      "Period, R^2, slope, intercept\n",
      "HIMX -0.41043839089390316 -0.23361613630770814 -0.33967955856029297\n",
      "Period, R^2, slope, intercept\n",
      "HLIT -0.5938908355461987 -0.40062402056831686 -0.37224075539015966\n",
      "Period, R^2, slope, intercept\n",
      "HSII -0.23784828978503014 -0.16472628743771006 -0.12235523579298657\n",
      "Period, R^2, slope, intercept\n",
      "HSTM 0.22408304848632604 0.12422746442289898 0.10216429173270117\n",
      "Period, R^2, slope, intercept\n",
      "IDN -0.08813053203947521 -0.002431713087734058 -0.07329499954457822\n",
      "Period, R^2, slope, intercept\n",
      "IMMR 0.2283392888848923 0.0747453547761353 0.0965823325603554\n",
      "Period, R^2, slope, intercept\n",
      "INOD -0.5593299900126254 -0.09218122959574271 -0.179545266487799\n",
      "Period, R^2, slope, intercept\n",
      "INTU 0.3923923865209499 0.1580927474926634 0.176094371709232\n",
      "Period, R^2, slope, intercept\n",
      "IPGP -0.029223209256198236 0.014034515756201512 -0.016441514548742736\n",
      "Period, R^2, slope, intercept\n",
      "ISSC -0.2014341837927127 -0.017148730275170623 -0.10262083349214618\n",
      "Period, R^2, slope, intercept\n",
      "ITRN 0.9983579359030763 0.32334750521148103 0.716183955368298\n",
      "Period, R^2, slope, intercept\n",
      "IVAC -0.004605409059348527 -0.05040056875706195 -0.0015165768315674993\n",
      "Period, R^2, slope, intercept\n",
      "JCOM 0.4752666038013308 0.20658441561866236 0.20297154309098675\n",
      "Period, R^2, slope, intercept\n",
      "JKHY 0.3835345579218623 0.1466698621145901 0.17283789156070578\n",
      "Period, R^2, slope, intercept\n",
      "JOBS 0.597324840708092 0.20165991191310426 0.3092587860504269\n",
      "Period, R^2, slope, intercept\n",
      "KFRC 0.34472599790412 0.12466620416313204 0.13240137669588437\n",
      "Period, R^2, slope, intercept\n",
      "KOPN -0.09269168367916106 -0.05866447713225098 -0.031688270212584045\n",
      "Period, R^2, slope, intercept\n",
      "KTCC -0.03387047886744113 0.018561424278402346 -0.02149083367978704\n",
      "Period, R^2, slope, intercept\n",
      "KVHI 0.03248871782747076 0.0042386312974877025 0.012183165611593992\n",
      "Period, R^2, slope, intercept\n",
      "LOGI 0.03387439076569059 0.07794437008788405 0.019578184269247383\n",
      "Period, R^2, slope, intercept\n",
      "LPSN 0.02885595232084153 0.02909813780121517 0.012214084470699976\n",
      "Period, R^2, slope, intercept\n",
      "LPTH 0.36127558715099933 0.12458294554729432 0.20201866981523503\n",
      "Period, R^2, slope, intercept\n",
      "LRCX -0.31154049480887475 -0.13765220051728874 -0.17569107538136305\n",
      "Period, R^2, slope, intercept\n",
      "LTRX -0.039937502751205084 -0.018248446277967643 -0.017245601538533193\n",
      "Period, R^2, slope, intercept\n",
      "MANH 0.23454132243945208 0.17517956503179635 0.1258934093201898\n",
      "Period, R^2, slope, intercept\n",
      "MCHP -0.2776526729367012 -0.10256186087386802 -0.1597634989705373\n",
      "Period, R^2, slope, intercept\n",
      "MGIC 0.24861224426604764 0.09389357042860563 0.1302094111426335\n",
      "Period, R^2, slope, intercept\n",
      "MGRC 0.05416014103377121 0.013733878881302859 0.027988446812540823\n",
      "Period, R^2, slope, intercept\n",
      "MOSY 0.1945170887250732 -0.0023924668385841286 0.05751107711658689\n",
      "Period, R^2, slope, intercept\n",
      "MPWR 0.3598217055231353 0.2157714038093629 0.156205520689074\n",
      "Period, R^2, slope, intercept\n",
      "MRVL -0.09054053719998545 -0.046622727698425195 -0.06887241370590366\n",
      "Period, R^2, slope, intercept\n",
      "MSFT 0.4871096610491362 0.21786523026665233 0.22385523751973593\n",
      "Period, R^2, slope, intercept\n",
      "MSTR -0.05729020948987623 -0.03843371467070562 -0.041463865002665794\n",
      "Period, R^2, slope, intercept\n",
      "MXIM 0.09786712086915234 0.06128179085560975 0.04797858190511404\n",
      "Period, R^2, slope, intercept\n",
      "NATI 0.03856306591353832 0.02514453997548278 0.024496690262735005\n",
      "Period, R^2, slope, intercept\n",
      "NTAP -0.12518198634220026 -0.03553619556774968 -0.0832890779981647\n",
      "Period, R^2, slope, intercept\n",
      "NTCT 0.11625550080131514 0.12010700316444614 0.08106735883885237\n",
      "Period, R^2, slope, intercept\n",
      "NVDA -0.36935086517531895 -0.02605324047744627 -0.137076459157987\n",
      "Period, R^2, slope, intercept\n",
      "OMCL -0.036044197826456834 0.008757402243829183 -0.025428090215868615\n",
      "Period, R^2, slope, intercept\n",
      "OSIS 0.27447401172395863 0.20954017371336917 0.20738408993999605\n",
      "Period, R^2, slope, intercept\n",
      "OTEX 0.07963965926404017 0.050818577162157555 0.018508435232432244\n",
      "Period, R^2, slope, intercept\n",
      "PCTI -0.17368971361408578 -0.03825867278407953 -0.05921721108960517\n",
      "Period, R^2, slope, intercept\n",
      "PDFS -0.23386321687391207 -0.2540319177687136 -0.23955386308339596\n",
      "Period, R^2, slope, intercept\n",
      "PEGA 0.14998802813172157 0.12479458946982439 0.07474553297801427\n",
      "Period, R^2, slope, intercept\n",
      "PLAB 0.33050680091422235 0.046951604138823155 0.0879400688394602\n",
      "Period, R^2, slope, intercept\n",
      "PLUS -0.17881591442818495 -0.029362003106743008 -0.1040615592567207\n",
      "Period, R^2, slope, intercept\n",
      "PRFT 0.17404380756005516 0.10498677646384172 0.11155456306552279\n",
      "Period, R^2, slope, intercept\n",
      "PXLW -0.1116709412082656 0.04204705071706415 -0.04646368136450491\n"
     ]
    }
   ],
   "source": [
    "write_data_to_csv = True\n",
    "if write_data_to_csv == True: \n",
    "    #expected_risky_returns=get_expected_R_CAPM()\n",
    "    #expected_risky_returns=get_expected_R_Oracle(0.2)\n",
    "    expected_risky_returns=get_expected_R_OLS()\n",
    "    expected_risky_returns.to_csv('expected_R.csv', sep=',', header=True, index=True)\n",
    "else:\n",
    "    expected_risky_returns= pd.read_csv('expected_R.csv', index_col = 0).dropna()"
   ]
  },
  {
   "cell_type": "code",
   "execution_count": 15,
   "metadata": {},
   "outputs": [],
   "source": [
    "investment_periods=[]\n",
    "for year in range(end_year-2, end_year):\n",
    "    for j in range(0,4):\n",
    "        investment_periods.append(str(year)+'Q'+str(j+1))"
   ]
  },
  {
   "cell_type": "code",
   "execution_count": 16,
   "metadata": {},
   "outputs": [],
   "source": [
    "# Extract the risky quarterly returns\n",
    "risky_asset_R = pd.DataFrame(index = tickers,columns = investment_periods)\n",
    "expected_asset_R = pd.DataFrame(index = tickers,columns = investment_periods) \n",
    "for year in range(end_year-2,end_year):\n",
    "      for j in range(0,4): \n",
    "            #stock_data['AAPL'].groupby(pd.Grouper(freq='Q'))\n",
    "            mask = (stock_data.index > str(year)+'-'+quarters[j]) & (stock_data.index < str(year)+'-'+quarters[j+1])\n",
    "            quarterly_returns=((stock_data[mask].iloc[-1]- stock_data[mask].iloc[0])/stock_data[mask].iloc[0]).values\n",
    "            #annualized_quarterly_returns=(1+quarterly_returns)**4-1\n",
    "            risky_asset_R.loc[:,str(year)+'Q'+str(j+1)] =quarterly_returns\n",
    "            expected_asset_R.loc[:,str(year)+'Q'+str(j+1)]= expected_risky_returns.loc[:,str(year)+'Q'+str(j+1)]"
   ]
  },
  {
   "cell_type": "code",
   "execution_count": 17,
   "metadata": {},
   "outputs": [],
   "source": [
    "risky_asset_returns=risky_asset_R\n",
    "expected_risky_returns=expected_asset_R"
   ]
  },
  {
   "cell_type": "code",
   "execution_count": 18,
   "metadata": {
    "colab": {
     "base_uri": "https://localhost:8080/",
     "height": 295
    },
    "id": "YvHvV7B6PQPh",
    "outputId": "3421ed28-a65f-4362-d166-990d22dbf1fd"
   },
   "outputs": [
    {
     "data": {
      "image/png": "[encoded data removed]",
      "text/plain": [
       "<Figure size 640x480 with 1 Axes>"
      ]
     },
     "metadata": {},
     "output_type": "display_data"
    }
   ],
   "source": [
    "# Compare the realized and expected returns\n",
    "# Note that they should appear correlated.\n",
    "\n",
    "# pick a random asset ID to show\n",
    "asset_idx =  tickers[0]\n",
    "\n",
    "plt.plot(investment_periods, expected_risky_returns.loc[asset_idx,:].values,label='expected_return')\n",
    "plt.plot(investment_periods,risky_asset_returns.loc[asset_idx,:].values,label='realized_return',color='r')\n",
    "plt.legend()\n",
    "plt.xlabel('Period')\n",
    "plt.title('Annualized realized returns vs expected returns')\n",
    "plt.show()"
   ]
  },
  {
   "cell_type": "code",
   "execution_count": 19,
   "metadata": {},
   "outputs": [],
   "source": [
    "risky_asset_returns=risky_asset_returns.T\n",
    "expected_risky_returns=expected_risky_returns.T"
   ]
  },
  {
   "cell_type": "code",
   "execution_count": 20,
   "metadata": {},
   "outputs": [],
   "source": [
    "num_steps=np.shape(expected_risky_returns)[0]"
   ]
  },
  {
   "cell_type": "code",
   "execution_count": 21,
   "metadata": {},
   "outputs": [
    {
     "data": {
      "text/plain": [
       "8"
      ]
     },
     "execution_count": 21,
     "metadata": {},
     "output_type": "execute_result"
    }
   ],
   "source": [
    "num_steps"
   ]
  },
  {
   "cell_type": "markdown",
   "metadata": {
    "id": "WqAdjcoFPQPp"
   },
   "source": [
    "### Compute the empirical correlation matrix using realized returns"
   ]
  },
  {
   "cell_type": "code",
   "execution_count": 22,
   "metadata": {
    "colab": {
     "base_uri": "https://localhost:8080/",
     "height": 34
    },
    "id": "sl5JQ3_8PQPs",
    "outputId": "5f93d784-2e83-4a2c-bf2e-23bd42eb5fb8"
   },
   "outputs": [
    {
     "name": "stdout",
     "output_type": "stream",
     "text": [
      "(99, 99)\n"
     ]
    }
   ],
   "source": [
    "# Ensure the data is float before computing covariance\n",
    "cov_mat_r = np.cov(risky_asset_returns.astype(float).T)  # correlation matrix\n",
    "print(cov_mat_r.shape)\n",
    "D, v = np.linalg.eigh(cov_mat_r)\n",
    "eigenvals = D[::-1]  # put them in a descended order"
   ]
  },
  {
   "cell_type": "code",
   "execution_count": 23,
   "metadata": {
    "colab": {
     "base_uri": "https://localhost:8080/",
     "height": 69
    },
    "id": "H-HzoeHOPQP0",
    "outputId": "96c11580-037d-430d-fe77-5e54635ea519"
   },
   "outputs": [
    {
     "data": {
      "text/plain": [
       "array([1.44142932e+00, 9.32583487e-01, 6.05832266e-01, 4.48157769e-01,\n",
       "       3.15410819e-01, 2.61472712e-01, 2.14440432e-01, 3.58699062e-16,\n",
       "       3.26161453e-16, 2.92750154e-16])"
      ]
     },
     "execution_count": 23,
     "metadata": {},
     "output_type": "execute_result"
    }
   ],
   "source": [
    "# eigenvalues: the largest eigenvalue is the market factor \n",
    "eigenvals[0:10]"
   ]
  },
  {
   "cell_type": "code",
   "execution_count": 24,
   "metadata": {
    "colab": {
     "base_uri": "https://localhost:8080/",
     "height": 156
    },
    "id": "hFC61Ci94nnd",
    "outputId": "fc1d8cde-9ada-4e39-f6e6-3fe3b55559e0"
   },
   "outputs": [
    {
     "data": {
      "text/plain": [
       "tensor([[ 0.0828,  0.0510,  0.0315,  ...,  0.0124,  0.0335,  0.0513],\n",
       "        [ 0.0510,  0.1789,  0.0310,  ...,  0.0070,  0.0272, -0.0620],\n",
       "        [ 0.0315,  0.0310,  0.1144,  ..., -0.0406,  0.0398, -0.1759],\n",
       "        ...,\n",
       "        [ 0.0124,  0.0070, -0.0406,  ...,  0.0528, -0.0039,  0.1020],\n",
       "        [ 0.0335,  0.0272,  0.0398,  ..., -0.0039,  0.0476, -0.0602],\n",
       "        [ 0.0513, -0.0620, -0.1759,  ...,  0.1020, -0.0602,  0.5031]],\n",
       "       dtype=torch.float64)"
      ]
     },
     "execution_count": 24,
     "metadata": {},
     "output_type": "execute_result"
    }
   ],
   "source": [
    "cov_mat_torch = torch.tensor(cov_mat_r)\n",
    "torch.pinverse(cov_mat_torch)"
   ]
  },
  {
   "cell_type": "markdown",
   "metadata": {
    "id": "ohSC6oDePQP5"
   },
   "source": [
    "### Add a riskless bond as one more asset"
   ]
  },
  {
   "cell_type": "code",
   "execution_count": 25,
   "metadata": {
    "id": "F7nwaM28PQP9"
   },
   "outputs": [],
   "source": [
    "num_assets = num_risky_assets + 1\n",
    "bond_val = 100.0\n",
    "init_asset_vals = np.hstack((np.array([bond_val]), stock_data.iloc[0,:].values)) # add the bond to initial assets"
   ]
  },
  {
   "cell_type": "markdown",
   "metadata": {
    "id": "hZQgn_CTPQQE"
   },
   "source": [
    "### Make the initial portfolio "
   ]
  },
  {
   "cell_type": "code",
   "execution_count": 26,
   "metadata": {
    "id": "PyMLBotBPQQH"
   },
   "outputs": [],
   "source": [
    "# consider here two choices: equal or equally-weighted \n",
    "init_port_choice =  'equal' \n",
    "init_cash = 1000.0\n",
    "init_total_asset = np.sum(init_asset_vals)\n",
    "x_vals_init = np.zeros(num_assets)\n",
    "\n",
    "if init_port_choice == 'equal': \n",
    "    # hold equal amounts of cash in each asset\n",
    "    amount_per_asset = init_cash/num_assets\n",
    "    x_vals_init = amount_per_asset * np.ones(num_assets)\n",
    "elif init_port_choice == 'equally_weighted':\n",
    "    amount_per_asset = init_cash/init_total_asset\n",
    "    x_vals_init = amount_per_asset * init_asset_vals "
   ]
  },
  {
   "cell_type": "markdown",
   "metadata": {
    "id": "Zkj8GdPDPQQP"
   },
   "source": [
    "### Make the target portfolio"
   ]
  },
  {
   "cell_type": "code",
   "execution_count": 27,
   "metadata": {
    "colab": {
     "base_uri": "https://localhost:8080/",
     "height": 34
    },
    "id": "LyyKCaPGPQQS",
    "outputId": "bda0d8d5-b848-4c2b-c36b-3f2ac1a1bf78"
   },
   "outputs": [
    {
     "name": "stdout",
     "output_type": "stream",
     "text": [
      "1100.0 3143.416229869479\n"
     ]
    }
   ],
   "source": [
    "# make a target portfolio term structure by defining it as the initial portfolio growing at some fixed and high rate\n",
    "target_portfolio = [init_cash]\n",
    "target_return = 0.15 \n",
    "coeff_target = 1.1 \n",
    "\n",
    "for i in range(1, num_steps):\n",
    "    target_portfolio.append(target_portfolio[i-1]*np.exp(dt * target_return) )\n",
    "    \n",
    "target_portfolio = coeff_target*np.array(target_portfolio)    \n",
    "print(target_portfolio[0], target_portfolio[-1])"
   ]
  },
  {
   "cell_type": "markdown",
   "metadata": {
    "id": "2UMA8UwlPQQc"
   },
   "source": [
    "### Define model parameters"
   ]
  },
  {
   "cell_type": "code",
   "execution_count": 28,
   "metadata": {
    "colab": {
     "base_uri": "https://localhost:8080/",
     "height": 34
    },
    "id": "5G_Y87m2PQQe",
    "outputId": "0cf27618-1f16-4676-9741-4e2c3ce8d466"
   },
   "outputs": [
    {
     "name": "stdout",
     "output_type": "stream",
     "text": [
      "1648.7212707001281 54598.15003314424\n"
     ]
    }
   ],
   "source": [
    "fee_bond = 0.05 \n",
    "fee_stock = 0.015 \n",
    "gamma = 0.95 \n",
    "all_fees = np.zeros(num_risky_assets + 1)\n",
    "all_fees[0] = fee_bond\n",
    "all_fees[1:] = fee_stock\n",
    "Omega_mat = np.diag(all_fees)\n",
    "exp_returns = expected_risky_returns\n",
    "Sigma_r = cov_mat_r\n",
    "\n",
    "# Generate the benchmark target portfolio by growing the initial portfolio value at rate eta\n",
    "target_return =  0.5 \n",
    "benchmark_portf = [init_cash * np.exp(dt * target_return)]\n",
    "\n",
    "for i in range(1,num_steps):\n",
    "    benchmark_portf.append(benchmark_portf[i-1]*np.exp(dt * target_return))   \n",
    "print(benchmark_portf[0], benchmark_portf[-1])"
   ]
  },
  {
   "cell_type": "markdown",
   "metadata": {
    "id": "YT6003xKPQQm"
   },
   "source": [
    "## G-learning\n",
    "\n",
    "Produce a list of trajectories, where each trajectory is a list made of state-action pairs"
   ]
  },
  {
   "cell_type": "code",
   "execution_count": 29,
   "metadata": {},
   "outputs": [],
   "source": [
    "lambd = 0.001 # keep fixed\n",
    "#omega = 1.81\n",
    "beta = 1000.0 # fixed fixed\n",
    "#eta = 1.82\n",
    "#rho = 0.9"
   ]
  },
  {
   "cell_type": "markdown",
   "metadata": {},
   "source": [
    "#### Parameter search for highest sharpe"
   ]
  },
  {
   "cell_type": "code",
   "execution_count": 30,
   "metadata": {},
   "outputs": [],
   "source": [
    "SR_G_max=-10\n",
    "bTune = False"
   ]
  },
  {
   "cell_type": "code",
   "execution_count": 31,
   "metadata": {
    "id": "lCzgn95o8wUD"
   },
   "outputs": [],
   "source": [
    "if bTune:\n",
    " # There is a memory leak in the G_learning_portfolio_opt due to copy() and this may crash\n",
    " for omega in np.arange(1.6,2.5,0.2):\n",
    "  for eta in np.arange(1.6,2.5,0.2):\n",
    "   for rho in np.arange(0.0,1.0,0.2):      \n",
    "\n",
    "    reward_params=[lambd, omega, eta, rho]\n",
    "    print(reward_params)\n",
    "    # Create a G-learner\n",
    "    G_learner = G_learning_portfolio_opt(num_steps,\n",
    "                     reward_params,  \n",
    "                     beta,                \n",
    "                     benchmark_portf,\n",
    "                     gamma, \n",
    "                     num_risky_assets,\n",
    "                     R,\n",
    "                     np.array(expected_risky_returns, dtype='float64'), # array of shape num_steps x num_stocks\n",
    "                     Sigma_r,     # covariance matrix of returns of risky matrix                    \n",
    "                     x_vals_init, # array of initial values of len (num_stocks+1)\n",
    "                     use_for_WM = True) # use for wealth management tasks\n",
    "\n",
    "    G_learner.reset_prior_policy()\n",
    "    error_tol=1.e-8\n",
    "    max_iter_RL = 200\n",
    "    G_learner.G_learning(error_tol, max_iter_RL)\n",
    "\n",
    "    num_sim = 100\n",
    "    #trajs = []\n",
    "    np.random.seed(0)\n",
    "    torch.manual_seed(0)\n",
    "    t_0 = time.time()\n",
    "    x_vals = [x_vals_init]\n",
    "    returns_all = []\n",
    "    consumption=np.array([0]*num_steps, dtype='float64')\n",
    "\n",
    "    for n in range(num_sim):\n",
    "        #this_traj = []\n",
    "        x_t = x_vals_init[:]\n",
    "        returns_array = []\n",
    "        for t in range(0,num_steps):       \n",
    "            mu_t = G_learner.u_bar_prior[t,:] + G_learner.v_bar_prior[t,:].mv(torch.tensor(x_t))\n",
    "            u_t = np.random.multivariate_normal(mu_t.detach().numpy(), G_learner.Sigma_prior[t,:].detach().numpy())\n",
    "            # compute new values of x_t\n",
    "            x_next = x_t + u_t\n",
    "            risky_asset_return = risky_asset_returns.iloc[t,:]\n",
    "            returns = np.hstack((R*dt, risky_asset_return))\n",
    "            x_next = (1+returns)*x_next\n",
    "            port_returns=(x_next.sum() - x_t.sum() - np.sum(u_t) -fee_stock*np.abs(u_t).sum())/x_t.sum()\n",
    "            consumption[t] += np.sum(u_t)\n",
    "            #this_traj.append((x_t, u_t))\n",
    "            x_t = x_next  # rename\n",
    "            returns_array.append(port_returns) \n",
    "        # end the loop over time steps\n",
    "        #trajs.append(this_traj)\n",
    "        returns_all.append(returns_array)\n",
    "\n",
    "    print('Done simulating trajectories in %f sec'% (time.time() - t_0))        \n",
    "   \n",
    "    returns_all_G = returns_all\n",
    "    \n",
    "    SR_G = 0\n",
    "    for i in range(num_sim):\n",
    "      SR_G += (np.mean(returns_all_G[i])-R*dt)/np.std(returns_all_G[i])\n",
    "    \n",
    "    del G_learner, returns_all,port_returns, returns, returns_array\n",
    "    gc.collect()\n",
    "    SR_G/=num_sim\n",
    "    print(SR_G)\n",
    "    if (SR_G> SR_G_max):\n",
    "        SR_G_max=SR_G\n",
    "        best_params=reward_params\n",
    "        "
   ]
  },
  {
   "cell_type": "code",
   "execution_count": 32,
   "metadata": {},
   "outputs": [],
   "source": [
    "lambd = 0.001 # keep fixed\n",
    "omega = 1.8\n",
    "beta = 1000.0 # fixed fixed\n",
    "eta = 2.0\n",
    "rho = 0.8"
   ]
  },
  {
   "cell_type": "code",
   "execution_count": 33,
   "metadata": {},
   "outputs": [
    {
     "name": "stdout",
     "output_type": "stream",
     "text": [
      "[0.001, 1.8, 2.0, 0.8]\n",
      "Doing G-learning, it may take a few seconds...\n",
      "Done simulating trajectories in 26.864642 sec\n"
     ]
    }
   ],
   "source": [
    "reward_params = [lambd, omega, eta, rho]\n",
    "print(reward_params)\n",
    "\n",
    "# Create a G-learner\n",
    "G_learner = G_learning_portfolio_opt(\n",
    "    num_steps,\n",
    "    reward_params,\n",
    "    beta,\n",
    "    benchmark_portf,\n",
    "    gamma,\n",
    "    num_risky_assets,\n",
    "    R,\n",
    "    np.array(expected_risky_returns, dtype='float64'),\n",
    "    Sigma_r,\n",
    "    x_vals_init,\n",
    "    use_for_WM=True\n",
    ")\n",
    "\n",
    "G_learner.reset_prior_policy()\n",
    "error_tol = 1.e-8\n",
    "max_iter_RL = 200\n",
    "G_learner.G_learning(error_tol, max_iter_RL)\n",
    "\n",
    "num_sim = 500\n",
    "trajs = []\n",
    "np.random.seed(0)\n",
    "torch.manual_seed(0)\n",
    "t_0 = time.time()\n",
    "x_vals = [x_vals_init]\n",
    "returns_all = []\n",
    "consumption = np.zeros(num_steps, dtype='float64')\n",
    "\n",
    "for n in range(num_sim):\n",
    "    this_traj = []\n",
    "    x_t = x_vals_init.copy()\n",
    "    returns_array = []\n",
    "    for t in range(num_steps):\n",
    "        # Ensure all tensors are detached and converted to numpy before use\n",
    "        mu_t = (\n",
    "            G_learner.u_bar_prior[t, :].detach().cpu().numpy()\n",
    "            + G_learner.v_bar_prior[t, :, :].detach().cpu().numpy().dot(x_t)\n",
    "        )\n",
    "        cov_t = G_learner.Sigma_prior[t, :, :].detach().cpu().numpy()\n",
    "        u_t = np.random.multivariate_normal(mu_t, cov_t)\n",
    "        # compute new values of x_t\n",
    "        x_next = x_t + u_t\n",
    "        risky_asset_return = risky_asset_returns.iloc[t, :].astype(float)\n",
    "        returns = np.hstack((R * dt, risky_asset_return))\n",
    "        x_next = (1 + returns) * x_next\n",
    "        port_returns = (\n",
    "            (x_next.sum() - x_t.sum() - np.sum(u_t) - fee_stock * np.abs(u_t).sum()) / x_t.sum()\n",
    "        )\n",
    "        # Avoid in-place operation (use out-of-place addition)\n",
    "        consumption[t] = consumption[t] + float(np.sum(u_t))\n",
    "        this_traj.append((x_t.copy(), u_t.copy()))\n",
    "        x_t = x_next.copy()\n",
    "        returns_array.append(port_returns)\n",
    "    trajs.append(this_traj)\n",
    "    returns_all.append(returns_array)\n",
    "\n",
    "print('Done simulating trajectories in %f sec' % (time.time() - t_0))\n",
    "\n",
    "returns_all_G = returns_all"
   ]
  },
  {
   "cell_type": "code",
   "execution_count": 34,
   "metadata": {},
   "outputs": [],
   "source": [
    "#from __future__ import print_function  # for Python2\n",
    "#import sys\n",
    "#max_mem=0\n",
    "#local_vars = list(locals().items())\n",
    "#for var, obj in local_vars:\n",
    "#    mem= sys.getsizeof(obj)\n",
    "#    if mem>max_mem:\n",
    "#        max_mem=mem\n",
    "#        max_var=var\n",
    "#    print(var, mem)   \n",
    "#print(\"---------\")    \n",
    "#print (max_var, max_mem)    "
   ]
  },
  {
   "cell_type": "code",
   "execution_count": 35,
   "metadata": {
    "id": "aTWkeFsDPQQu"
   },
   "outputs": [],
   "source": [
    "np.save('State_act_trajs.npy', trajs)  # save trajectories "
   ]
  },
  {
   "cell_type": "code",
   "execution_count": 36,
   "metadata": {
    "id": "SNtCvuFMPQQ0"
   },
   "outputs": [],
   "source": [
    "trajs = np.load('State_act_trajs.npy')"
   ]
  },
  {
   "cell_type": "markdown",
   "metadata": {
    "id": "bpnem5H5vZ5H"
   },
   "source": [
    "### Calculate performance of G-learner (Diagnostics only)"
   ]
  },
  {
   "cell_type": "code",
   "execution_count": 37,
   "metadata": {},
   "outputs": [],
   "source": [
    "SR_G = 0\n",
    "for i in range(num_sim):\n",
    "  SR_G += (np.mean(returns_all_G[i])-R*dt)/np.std(returns_all_G[i])\n",
    "SR_G/=num_sim    "
   ]
  },
  {
   "cell_type": "code",
   "execution_count": 38,
   "metadata": {
    "id": "TT9dIJP_t0K_"
   },
   "outputs": [],
   "source": [
    "r_G=np.array([0]*num_steps, dtype='float64')\n",
    "for n in range(num_steps):\n",
    "  for i in range(num_sim):\n",
    "    r_G[n]+=returns_all_G[i][n]\n",
    "  r_G[n]/=num_sim"
   ]
  },
  {
   "cell_type": "code",
   "execution_count": 39,
   "metadata": {},
   "outputs": [
    {
     "data": {
      "text/plain": [
       "Text(0, 0.5, 'Sample Mean Returns')"
      ]
     },
     "execution_count": 39,
     "metadata": {},
     "output_type": "execute_result"
    },
    {
     "data": {
      "image/png": "[encoded data removed]",
      "text/plain": [
       "<Figure size 640x480 with 1 Axes>"
      ]
     },
     "metadata": {},
     "output_type": "display_data"
    }
   ],
   "source": [
    "plt.plot(r_G, label='G-learning (' + str(np.round(SR_G, 3)) + ')', color='red')\n",
    "#plt.plot(r_fixed, label='Equi-weighted (' + str(np.round(SR_fixed,3)) + ')', color='black')\n",
    "#plt.plot(r_GIRL, label='GIRL (' + str(np.round(SR_GIRL,3)) + ')', color='blue')\n",
    "\n",
    "plt.legend()\n",
    "plt.xlabel('time (quarters)')\n",
    "plt.ylabel('Sample Mean Returns')"
   ]
  },
  {
   "cell_type": "markdown",
   "metadata": {},
   "source": [
    "## Benchmark against the equal weighted portfolio"
   ]
  },
  {
   "cell_type": "code",
   "execution_count": 40,
   "metadata": {},
   "outputs": [
    {
     "name": "stdout",
     "output_type": "stream",
     "text": [
      "Done simulating trajectories in 0.135298 sec\n"
     ]
    }
   ],
   "source": [
    "num_sim = 500\n",
    "t_0 = time.time()\n",
    "x_vals = [x_vals_init]\n",
    "returns_all = []\n",
    "\n",
    "for n in range(num_sim):\n",
    "    \n",
    "    x_t = x_vals_init[:]\n",
    "    returns_array = []\n",
    "    for t in range(0,num_steps): \n",
    "        u_t=0  # don't rebalance\n",
    "        # compute new values of x_t\n",
    "        x_next = x_t + u_t\n",
    "        risky_asset_return = risky_asset_returns.iloc[t,:]\n",
    "        returns = np.hstack((R*dt, risky_asset_return))\n",
    "        #print(returns)\n",
    "        x_next = (1+returns)*x_next\n",
    "        port_returns=(x_next.sum() - x_t.sum() - np.sum(u_t) - fee_stock*np.abs(u_t).sum())/x_t.sum()\n",
    "        \n",
    "        x_t = x_next # rename\n",
    "        returns_array.append(port_returns) \n",
    "    # end the loop over time steps\n",
    "   \n",
    "    returns_all.append(returns_array)\n",
    "\n",
    "print('Done simulating trajectories in %f sec'% (time.time() - t_0))   "
   ]
  },
  {
   "cell_type": "code",
   "execution_count": 41,
   "metadata": {},
   "outputs": [],
   "source": [
    "returns_all_fixed = returns_all"
   ]
  },
  {
   "cell_type": "code",
   "execution_count": 42,
   "metadata": {},
   "outputs": [
    {
     "name": "stdout",
     "output_type": "stream",
     "text": [
      "0.292899296347987\n"
     ]
    }
   ],
   "source": [
    "SR_fixed=0\n",
    "for i in range(num_sim):\n",
    "  SR_fixed+=(np.mean(returns_all_fixed[i])-R*dt)/np.std(returns_all_fixed[i])\n",
    "\n",
    "SR_fixed/=num_sim\n",
    "print(SR_fixed)"
   ]
  },
  {
   "cell_type": "code",
   "execution_count": 43,
   "metadata": {},
   "outputs": [],
   "source": [
    "r_fixed=np.array([0]*num_steps, dtype='float64')\n",
    "for n in range(num_steps):\n",
    "  for i in range(num_sim):\n",
    "    r_fixed[n]+=returns_all_fixed[i][n]\n",
    "  r_fixed[n]/=num_sim"
   ]
  },
  {
   "cell_type": "code",
   "execution_count": 44,
   "metadata": {},
   "outputs": [
    {
     "data": {
      "text/plain": [
       "Text(0, 0.5, 'Sample Mean Returns')"
      ]
     },
     "execution_count": 44,
     "metadata": {},
     "output_type": "execute_result"
    },
    {
     "data": {
      "image/png": "[encoded data removed]",
      "text/plain": [
       "<Figure size 640x480 with 1 Axes>"
      ]
     },
     "metadata": {},
     "output_type": "display_data"
    }
   ],
   "source": [
    "plt.plot(r_G, label='G-learning (' + str(np.round(SR_G,3)) + ')', color='red')\n",
    "plt.plot(r_fixed, label='Equi-weighted (' + str(np.round(SR_fixed,3)) + ')', color='black')\n",
    "#plt.plot(r_GIRL, label='GIRL (' + str(np.round(SR_GIRL,3)) + ')', color='blue')\n",
    "\n",
    "plt.legend()\n",
    "plt.xlabel('time (quarters)')\n",
    "plt.ylabel('Sample Mean Returns')"
   ]
  },
  {
   "cell_type": "markdown",
   "metadata": {
    "id": "4Wdu1t058d7a"
   },
   "source": [
    "## GIRL\n",
    "Implement the optimizer for finding the optimal G-learning parameters by MLE."
   ]
  },
  {
   "cell_type": "code",
   "execution_count": 45,
   "metadata": {
    "id": "Z2cYmHjoTZKM"
   },
   "outputs": [],
   "source": [
    "def fun(x, grad_=False, rescale=1.0, constraint=False):\n",
    "    y=np.array([0]*4, dtype='float32')\n",
    "    z=x.copy()\n",
    "    y[0] =lambd\n",
    "    #y[0]/=sc[0]\n",
    "    y[1]=z[0]/sc[0]\n",
    "    y[2]=z[1]/sc[1]\n",
    "    y[3]=z[2]/sc[2]\n",
    "    \n",
    "    with torch.no_grad():\n",
    "       if grad_==False:\n",
    "           if constraint:\n",
    "            #y[0] = y[0]**2\n",
    "            #y[0] = lambd\n",
    "            y[1] = 1+y[1]**2\n",
    "            y[2] = 1+y[2]**2\n",
    "            y[3] = 1.0/(1.0+np.exp(-y[3]))\n",
    "           print(y) \n",
    "           ret = rescale*get_loss(trajs,\n",
    "                                 num_steps, \n",
    "                                 benchmark_portf, \n",
    "                                 gamma, \n",
    "                                 num_risky_assets, \n",
    "                                 R, \n",
    "                                 np.array(expected_risky_returns, dtype='float32'),\n",
    "                                 Sigma_r, \n",
    "                                 x_vals_init, \n",
    "                                 max_iter_RL, \n",
    "                                 y,\n",
    "                                 beta,\n",
    "                                 len(trajs), \n",
    "                                 grad=grad_, \n",
    "                                 eps=1e-7).detach().numpy()\n",
    "\n",
    "           print(ret)\n",
    "           return ret\n",
    "       else:\n",
    "            f, df = get_loss(trajs,\n",
    "                                 num_steps, \n",
    "                                 benchmark_portf, \n",
    "                                 gamma, \n",
    "                                 num_risky_assets,\n",
    "                                 R, \n",
    "                                 np.array(expected_risky_returns, dtype='float32'),\n",
    "                                 Sigma_r, \n",
    "                                 x_vals_init, \n",
    "                                 max_iter_RL, \n",
    "                                 y, \n",
    "                                 beta,\n",
    "                                 len(trajs), \n",
    "                                 grad=grad_, \n",
    "                                 eps=1e-7)\n",
    "            return f.detach().numpy()*rescale, df*rescale/sc"
   ]
  },
  {
   "cell_type": "markdown",
   "metadata": {
    "id": "JQXvu1HqPQRc"
   },
   "source": [
    "### GIRL (G-learning IRL)\n",
    "Two different optimizers are used to demonstrate the implementation of GIRL. The first approach is gradient free and the second approach uses the gradient of the loss function. \n",
    "#### Gradient free (ignore this)\n",
    "Initialize the parameters"
   ]
  },
  {
   "cell_type": "code",
   "execution_count": 46,
   "metadata": {},
   "outputs": [
    {
     "data": {
      "text/plain": [
       "1000.0"
      ]
     },
     "execution_count": 46,
     "metadata": {},
     "output_type": "execute_result"
    }
   ],
   "source": [
    "# lambd_0 = 0.002\n",
    "omega_0 = 2.5\n",
    "eta_0 = 1.3 \n",
    "beta_0 = beta \n",
    "rho_0 = 0.8\n",
    "beta"
   ]
  },
  {
   "cell_type": "code",
   "execution_count": 47,
   "metadata": {},
   "outputs": [],
   "source": [
    "sc=np.array([1,1,1]) # optional re-scaling"
   ]
  },
  {
   "cell_type": "code",
   "execution_count": 48,
   "metadata": {},
   "outputs": [],
   "source": [
    "x0=np.array([omega_0, eta_0, rho_0])\n",
    "x0=[np.sqrt(x0[0]-1), np.sqrt(x0[1]-1), np.log(x0[2]/(1-x0[2]))]\n",
    "#x0=np.array([lambd_0, omega_0, eta_0, rho_0])\n",
    "#x0=[np.sqrt(x0[0]-0.001), np.sqrt(x0[1]-1), np.sqrt(x0[2]-1), np.log(x0[3]/(1-x0[3]))]\n",
    "x0*=sc"
   ]
  },
  {
   "cell_type": "code",
   "execution_count": 49,
   "metadata": {},
   "outputs": [
    {
     "name": "stdout",
     "output_type": "stream",
     "text": [
      "[1.0000000e-03 2.5000000e+00 1.3000001e+00 8.0000001e-01]\n",
      "Doing G-learning, it may take a few seconds...\n",
      "0.015760599295725583\n"
     ]
    },
    {
     "data": {
      "text/plain": [
       "0.015760599295725583"
      ]
     },
     "execution_count": 49,
     "metadata": {},
     "output_type": "execute_result"
    }
   ],
   "source": [
    "# test evaluate the loss function\n",
    "fun(x0, False, 1e-12, constraint=True)"
   ]
  },
  {
   "cell_type": "code",
   "execution_count": 50,
   "metadata": {},
   "outputs": [
    {
     "name": "stdout",
     "output_type": "stream",
     "text": [
      "[1.0e-03 1.8e+00 2.0e+00 8.0e-01]\n",
      "Doing G-learning, it may take a few seconds...\n",
      "0.00020595505592942238\n"
     ]
    },
    {
     "data": {
      "text/plain": [
       "0.00020595505592942238"
      ]
     },
     "execution_count": 50,
     "metadata": {},
     "output_type": "execute_result"
    }
   ],
   "source": [
    "x_ask=np.array([omega, eta, rho])\n",
    "x_ask=[np.sqrt(x_ask[0]-1), np.sqrt(x_ask[1]-1), np.log(x_ask[2]/(1-x_ask[2]))]\n",
    "fun(x_ask, False, 1e-12, constraint=True)"
   ]
  },
  {
   "cell_type": "code",
   "execution_count": 51,
   "metadata": {},
   "outputs": [
    {
     "name": "stdout",
     "output_type": "stream",
     "text": [
      "[1.0000000e-03 2.5000000e+00 1.3000001e+00 8.0000001e-01]\n",
      "Doing G-learning, it may take a few seconds...\n",
      "0.015760599295725583\n",
      "[1.0000000e-03 2.6537499e+00 1.3000001e+00 8.0000001e-01]\n",
      "Doing G-learning, it may take a few seconds...\n",
      "0.016651636826056002\n",
      "[1.00000e-03 2.50000e+00 1.33075e+00 8.00000e-01]\n",
      "Doing G-learning, it may take a few seconds...\n",
      "0.014743735729928376\n",
      "[1.0000000e-03 2.5000000e+00 1.3000001e+00 8.1086016e-01]\n",
      "Doing G-learning, it may take a few seconds...\n",
      "0.015106745384442864\n",
      "[1.0000000e-03 2.3537500e+00 1.3203334e+00 8.0729121e-01]\n",
      "Doing G-learning, it may take a few seconds...\n",
      "0.013817877833921193\n",
      "[1.0000000e-03 2.2149999e+00 1.3307500e+00 8.1086016e-01]\n",
      "Doing G-learning, it may take a few seconds...\n",
      "0.01250874819655633\n",
      "[1.0000000e-03 2.3066669e+00 1.3413334e+00 8.1437826e-01]\n",
      "Doing G-learning, it may take a few seconds...\n",
      "0.012538919586806595\n",
      "[1.0000000e-03 2.1851852e+00 1.3703704e+00 8.0609018e-01]\n",
      "Doing G-learning, it may take a few seconds...\n",
      "0.011384374915164829\n",
      "[1.0000000e-03 2.0416665e+00 1.4083333e+00 8.0367118e-01]\n",
      "Doing G-learning, it may take a few seconds...\n",
      "0.009596090300017119\n",
      "[1.0000000e-03 1.9074074e+00 1.3891203e+00 8.1899011e-01]\n",
      "Doing G-learning, it may take a few seconds...\n",
      "0.008752547726204216\n",
      "[1.0000000e-03 1.6666667e+00 1.4200833e+00 8.2794517e-01]\n",
      "Doing G-learning, it may take a few seconds...\n",
      "0.006398545286688685\n",
      "[1.0000000e-03 1.6666667e+00 1.4320000e+00 8.1437826e-01]\n",
      "Doing G-learning, it may take a few seconds...\n",
      "0.006578364096371293\n",
      "[1.0000000e-03 1.4446297e+00 1.5200833e+00 8.2012904e-01]\n",
      "Doing G-learning, it may take a few seconds...\n",
      "0.0034735373709849117\n",
      "[1.0000000e-03 1.2016667e+00 1.6307501e+00 8.2462883e-01]\n",
      "Doing G-learning, it may take a few seconds...\n",
      "0.0010307523766014575\n",
      "[1.0000000e-03 1.1350000e+00 1.5787038e+00 8.3968031e-01]\n",
      "Doing G-learning, it may take a few seconds...\n",
      "0.0011814907086673974\n",
      "[1.0000000e-03 1.0740740e+00 1.6584362e+00 8.4613830e-01]\n",
      "Doing G-learning, it may take a few seconds...\n",
      "0.00018110245773011446\n",
      "[1.0000000e-03 1.0000000e+00 1.7894814e+00 8.6027622e-01]\n",
      "Doing G-learning, it may take a few seconds...\n",
      "-0.002082976119337171\n",
      "[1.0000000e-03 1.0740740e+00 1.9620258e+00 8.5526544e-01]\n",
      "Doing G-learning, it may take a few seconds...\n",
      "-0.0021068049839317203\n",
      "[1.0000000e-03 1.6666667e+00 2.3160093e+00 8.6751908e-01]\n",
      "Doing G-learning, it may take a few seconds...\n",
      "0.0009583887743160426\n",
      "[1.0000000e-03 1.0622427e+00 2.0301788e+00 8.5473502e-01]\n",
      "Doing G-learning, it may take a few seconds...\n",
      "-0.004096562546091556\n",
      "[1.0000000e-03 1.3112963e+00 2.3043993e+00 8.6181200e-01]\n",
      "Doing G-learning, it may take a few seconds...\n",
      "0.000737195695569843\n",
      "[1.0000000e-03 1.6349543e+00 2.2739449e+00 8.8386220e-01]\n",
      "Doing G-learning, it may take a few seconds...\n",
      "0.0008904673348793983\n",
      "[1.0000000e-03 1.2355762e+00 2.0921674e+00 8.7092364e-01]\n",
      "Doing G-learning, it may take a few seconds...\n",
      "-0.0001363648857855797\n",
      "[1.0000000e-03 1.0189323e+00 1.7705700e+00 8.4136271e-01]\n",
      "Doing G-learning, it may take a few seconds...\n",
      "-0.0012055744391079545\n",
      "[1.0000000e-03 1.0003293e+00 1.8457247e+00 8.4923190e-01]\n",
      "Doing G-learning, it may take a few seconds...\n",
      "-0.003281241830739379\n",
      "[1.0000000e-03 1.1295016e+00 2.1132326e+00 8.4561765e-01]\n",
      "Doing G-learning, it may take a few seconds...\n",
      "-0.0015911332286502123\n",
      "[1.0000000e-03 1.0080938e+00 1.8652170e+00 8.5672462e-01]\n",
      "Doing G-learning, it may take a few seconds...\n",
      "-0.0033329892709626553\n",
      "[1.0000000e-03 1.0011404e+00 1.8630868e+00 8.5190260e-01]\n",
      "Doing G-learning, it may take a few seconds...\n",
      "-0.0036777272462004424\n",
      "[1.0000000e-03 1.0344636e+00 1.9929762e+00 8.5954696e-01]\n",
      "Doing G-learning, it may take a few seconds...\n",
      "-0.005373872518331408\n",
      "[1.0000000e-03 1.0725728e+00 2.0710313e+00 8.6447942e-01]\n",
      "Doing G-learning, it may take a few seconds...\n",
      "-0.004346737966939985\n",
      "[1.0000000e-03 1.0315444e+00 2.0612133e+00 8.5411280e-01]\n",
      "Doing G-learning, it may take a few seconds...\n",
      "-0.007669307531318724\n",
      "[1.0000000e-03 1.0490305e+00 2.1667089e+00 8.5279214e-01]\n",
      "Doing G-learning, it may take a few seconds...\n",
      "-0.009930955997551203\n",
      "[1.0000000e-03 1.2222873e+00 2.2815225e+00 8.5944492e-01]\n",
      "Doing G-learning, it may take a few seconds...\n",
      "-0.00015953709527283906\n",
      "[1.0000000e-03 1.0085640e+00 1.9599675e+00 8.5381901e-01]\n",
      "Doing G-learning, it may take a few seconds...\n",
      "-0.006299467867137074\n",
      "[1.0000000e-03 1.0069875e+00 2.0457630e+00 8.5608566e-01]\n",
      "Doing G-learning, it may take a few seconds...\n",
      "-0.009944911457704842\n",
      "[1.0000000e-03 1.0000004e+00 2.0535989e+00 8.5675704e-01]\n",
      "Doing G-learning, it may take a few seconds...\n",
      "-0.011433005151514799\n",
      "[1.0000000e-03 1.0005808e+00 2.1259320e+00 8.4922963e-01]\n",
      "Doing G-learning, it may take a few seconds...\n",
      "-0.014501933342449485\n",
      "[1.0000000e-03 1.0032119e+00 2.1955414e+00 8.4384125e-01]\n",
      "Doing G-learning, it may take a few seconds...\n",
      "-0.01747488445630455\n",
      "[1.0000000e-03 1.0003141e+00 2.3306882e+00 8.4856313e-01]\n",
      "Doing G-learning, it may take a few seconds...\n",
      "-0.028933236476590872\n",
      "[1.0000000e-03 1.0003874e+00 2.5386968e+00 8.4587747e-01]\n",
      "Doing G-learning, it may take a few seconds...\n",
      "-0.052984384280716175\n",
      "[1.0000000e-03 1.0739319e+00 2.3457325e+00 8.4495264e-01]\n",
      "Doing G-learning, it may take a few seconds...\n",
      "-0.013546475774418115\n",
      "[1.0000000e-03 1.0542045e+00 2.6973448e+00 8.3223718e-01]\n",
      "Doing G-learning, it may take a few seconds...\n",
      "-0.03618047512521386\n",
      "[1.0000000e-03 1.0043279e+00 2.5986848e+00 8.3643973e-01]\n",
      "Doing G-learning, it may take a few seconds...\n",
      "-0.050485975147470115\n",
      "[1.0000000e-03 1.0045974e+00 3.0881078e+00 8.3253288e-01]\n",
      "Doing G-learning, it may take a few seconds...\n",
      "-0.28622913473182504\n",
      "[1.0000000e-03 1.0053831e+00 3.6271186e+00 8.2663774e-01]\n",
      "Doing G-learning, it may take a few seconds...\n",
      "-1.5593435075226652\n",
      "[1.0000000e-03 1.0460705e+00 3.0956213e+00 8.4061646e-01]\n",
      "Doing G-learning, it may take a few seconds...\n",
      "-0.2045628113061524\n",
      "[1.0000000e-03 1.0002332e+00 3.5863512e+00 8.3929366e-01]\n",
      "Doing G-learning, it may take a few seconds...\n",
      "-1.6458468095773153\n",
      "[1.0000000e-03 1.0000998e+00 4.1688447e+00 8.4070545e-01]\n",
      "Doing G-learning, it may take a few seconds...\n",
      "4.226443158340385\n",
      "[1.0000000e-03 1.0153872e+00 4.5244193e+00 8.2480264e-01]\n",
      "Doing G-learning, it may take a few seconds...\n",
      "8.316463041606275\n",
      "[1.0000000e-03 1.0002640e+00 2.9590690e+00 8.4081143e-01]\n",
      "Doing G-learning, it may take a few seconds...\n",
      "-0.21593106519594504\n",
      "[1.0000000e-03 1.0588262e+00 3.6836572e+00 8.3061701e-01]\n",
      "Doing G-learning, it may take a few seconds...\n",
      "-1.3100298324313815\n",
      "[1.0000000e-03 1.0469480e+00 4.4046116e+00 8.2332456e-01]\n",
      "Doing G-learning, it may take a few seconds...\n",
      "4.212279262687419\n",
      "[1.0000000e-03 1.0017625e+00 3.2832429e+00 8.3657575e-01]\n",
      "Doing G-learning, it may take a few seconds...\n",
      "-0.7070352659332315\n",
      "[1.0000000e-03 1.0251045e+00 4.0060143e+00 8.2783306e-01]\n",
      "Doing G-learning, it may take a few seconds...\n",
      "-0.2368973630091822\n",
      "[1.0000000e-03 1.0050550e+00 3.4546328e+00 8.3442414e-01]\n",
      "Doing G-learning, it may take a few seconds...\n",
      "-1.179155153916085\n",
      "[1.0000000e-03 1.0167259e+00 3.8160183e+00 8.3005285e-01]\n",
      "Doing G-learning, it may take a few seconds...\n",
      "-1.4104904046880813\n",
      "[1.0000000e-03 1.0138272e+00 3.6674979e+00 8.3349997e-01]\n",
      "Doing G-learning, it may take a few seconds...\n",
      "-1.6282250421066857\n",
      "[1.0000000e-03 1.0285572e+00 3.4443252e+00 8.3631569e-01]\n",
      "Doing G-learning, it may take a few seconds...\n",
      "-0.9207995948187861\n",
      "[1.0000000e-03 1.0029975e+00 3.7206297e+00 8.3163625e-01]\n",
      "Doing G-learning, it may take a few seconds...\n",
      "-1.5825821688449413\n",
      "[1.0000000e-03 1.0157360e+00 3.6888044e+00 8.4272021e-01]\n",
      "Doing G-learning, it may take a few seconds...\n",
      "-1.643456267520706\n",
      "[1.0000000e-03 1.0515069e+00 3.5751026e+00 8.4521461e-01]\n",
      "Doing G-learning, it may take a few seconds...\n",
      "-1.2466422076042254\n",
      "[1.0000000e-03 1.0002457e+00 3.6838727e+00 8.3511740e-01]\n",
      "Doing G-learning, it may take a few seconds...\n",
      "-1.6280810152574294\n",
      "[1.0000000e-03 1.0245005e+00 3.6111095e+00 8.4190619e-01]\n",
      "Doing G-learning, it may take a few seconds...\n",
      "-1.554770820181127\n",
      "[1.0000000e-03 1.0025896e+00 3.6655886e+00 8.3683628e-01]\n",
      "Doing G-learning, it may take a few seconds...\n",
      "-1.6526782164549312\n",
      "[1.0000000e-03 1.0001029e+00 3.6260476e+00 8.4557891e-01]\n",
      "Doing G-learning, it may take a few seconds...\n",
      "-1.6792594251185735\n",
      "[1.0000000e-03 1.0018989e+00 3.6054447e+00 8.5134488e-01]\n",
      "Doing G-learning, it may take a few seconds...\n",
      "-1.6885577613266685\n",
      "[1.0000000e-03 1.0121855e+00 3.5501523e+00 8.4247422e-01]\n",
      "Doing G-learning, it may take a few seconds...\n",
      "-1.5196119768205223\n",
      "[1.0000000e-03 1.0044203e+00 3.6537974e+00 8.4265876e-01]\n",
      "Doing G-learning, it may take a few seconds...\n",
      "-1.6624201433950252\n",
      "[1.0000000e-03 1.0011511e+00 3.6973231e+00 8.4802020e-01]\n",
      "Doing G-learning, it may take a few seconds...\n",
      "-1.5147405060650785\n",
      "[1.0000000e-03 1.0003974e+00 3.6138756e+00 8.4151256e-01]\n",
      "Doing G-learning, it may take a few seconds...\n",
      "-1.6773039777888195\n",
      "[1.0000000e-03 1.0004984e+00 3.5833938e+00 8.5325539e-01]\n",
      "Doing G-learning, it may take a few seconds...\n",
      "-1.6968375812169634\n",
      "[1.0000000e-03 1.0034730e+00 3.5427794e+00 8.6093903e-01]\n",
      "Doing G-learning, it may take a few seconds...\n",
      "-1.6885555965654182\n",
      "[1.0000000e-03 1.0094342e+00 3.5485129e+00 8.5469478e-01]\n",
      "Doing G-learning, it may take a few seconds...\n",
      "-1.6435095733505227\n",
      "[1.0000000e-03 1.0006545e+00 3.6272764e+00 8.4574175e-01]\n",
      "Doing G-learning, it may take a few seconds...\n",
      "-1.678540220299647\n",
      "[1.0000000e-03 1.0021917e+00 3.5968201e+00 8.5838020e-01]\n",
      "Doing G-learning, it may take a few seconds...\n",
      "-1.6806294355622873\n",
      "[1.0000000e-03 1.0101457e+00 3.5633435e+00 8.6256003e-01]\n",
      "Doing G-learning, it may take a few seconds...\n",
      "-1.6773859642378093\n",
      "[1.0000000e-03 1.0000360e+00 3.6112192e+00 8.5009784e-01]\n",
      "Doing G-learning, it may take a few seconds...\n",
      "-1.685804509149945\n",
      "[1.0000000e-03 1.0000012e+00 3.6031930e+00 8.4449321e-01]\n",
      "Doing G-learning, it may take a few seconds...\n",
      "-1.6849773091981286\n",
      "[1.0000000e-03 1.0001572e+00 3.6015987e+00 8.4806579e-01]\n",
      "Doing G-learning, it may take a few seconds...\n",
      "-1.691015603528597\n",
      "[1.0000000e-03 1.0021436e+00 3.5824275e+00 8.5170132e-01]\n",
      "Doing G-learning, it may take a few seconds...\n",
      "-1.6921879607910855\n",
      "[1.0000000e-03 1.0001110e+00 3.5728722e+00 8.5069561e-01]\n",
      "Doing G-learning, it may take a few seconds...\n",
      "-1.6925038391599905\n",
      "[1.0000000e-03 1.0016186e+00 3.5576196e+00 8.5562885e-01]\n",
      "Doing G-learning, it may take a few seconds...\n",
      "-1.6927555991655727\n",
      "[1.0000000e-03 1.0000058e+00 3.5601649e+00 8.5469550e-01]\n",
      "Doing G-learning, it may take a few seconds...\n",
      "-1.6969931870251824\n",
      "[1.0000000e-03 1.0003805e+00 3.5490696e+00 8.5617363e-01]\n",
      "Doing G-learning, it may take a few seconds...\n",
      "-1.6937126068808241\n",
      "[1.0000000e-03 1.0010751e+00 3.5612273e+00 8.5828096e-01]\n",
      "Doing G-learning, it may take a few seconds...\n",
      "-1.6983948708464107\n",
      "[1.0000000e-03 1.0019287e+00 3.5554149e+00 8.6195147e-01]\n",
      "Doing G-learning, it may take a few seconds...\n",
      "-1.6959400339455644\n"
     ]
    }
   ],
   "source": [
    "# Optimize with the Nelder-Mead method\n",
    "res = minimize(fun, x0, method='Nelder-Mead', args=(False, 1e-12, True), \n",
    "               options={'disp': True, 'maxiter':50}, tol=0.01)"
   ]
  },
  {
   "cell_type": "code",
   "execution_count": 52,
   "metadata": {},
   "outputs": [
    {
     "data": {
      "text/plain": [
       "       message: Maximum number of iterations has been exceeded.\n",
       "       success: False\n",
       "        status: 2\n",
       "           fun: -1.6983948708464107\n",
       "             x: [ 3.279e-02  1.600e+00  1.801e+00]\n",
       "           nit: 50\n",
       "          nfev: 86\n",
       " final_simplex: (array([[ 3.279e-02,  1.600e+00,  1.801e+00],\n",
       "                       [ 2.429e-03,  1.600e+00,  1.772e+00],\n",
       "                       [ 2.233e-02,  1.607e+00,  1.760e+00],\n",
       "                       [ 4.023e-02,  1.599e+00,  1.779e+00]]), array([-1.698e+00, -1.697e+00, -1.697e+00, -1.693e+00]))"
      ]
     },
     "execution_count": 52,
     "metadata": {},
     "output_type": "execute_result"
    }
   ],
   "source": [
    "res"
   ]
  },
  {
   "cell_type": "code",
   "execution_count": 53,
   "metadata": {},
   "outputs": [
    {
     "name": "stdout",
     "output_type": "stream",
     "text": [
      "(0.001, 1.0010751505359157, 3.561227318784435, 0.8582809587822368)\n"
     ]
    }
   ],
   "source": [
    "#(0.001 +res.x[0]**2)/sc[0], (1+res.x[1]**2)/sc[1], (1+res.x[2]**2)/sc[2], 1.0/(1+np.exp(-res.x[3]))/sc[3]\n",
    "results=lambd, (1+res.x[0]**2)/sc[0], (1+res.x[1]**2)/sc[1], 1.0/(1+np.exp(-res.x[2]))/sc[2]\n",
    "print(results)"
   ]
  },
  {
   "cell_type": "markdown",
   "metadata": {
    "id": "1TpYxXmq89QD"
   },
   "source": [
    "#### GIRL (Gradient based) <= use this one\n",
    "Now separately perform GIRL using a gradient based optimizer. This has the advantage of being more accurate but can be less stable."
   ]
  },
  {
   "cell_type": "code",
   "execution_count": 54,
   "metadata": {
    "id": "VPZgTZ789R_H"
   },
   "outputs": [],
   "source": [
    "# initialize the parameters\n",
    "#lambd_0 = 0.001 # lambd is kept fixed\n",
    "omega_0 = 2.3\n",
    "eta_0 = 1.7\n",
    "#beta_0 = beta \n",
    "rho_0 = 0.8"
   ]
  },
  {
   "cell_type": "code",
   "execution_count": 55,
   "metadata": {
    "id": "Z9nO_7hHBGai"
   },
   "outputs": [],
   "source": [
    "#x0=np.array([lambd_0, omega_0, eta_0, rho_0])\n",
    "x0=np.array([omega_0, eta_0, rho_0])"
   ]
  },
  {
   "cell_type": "code",
   "execution_count": 56,
   "metadata": {
    "id": "MLHLm-uU9XSu"
   },
   "outputs": [],
   "source": [
    "# rescaling\n",
    "sc=np.array([1,1,1])"
   ]
  },
  {
   "cell_type": "code",
   "execution_count": 57,
   "metadata": {
    "colab": {
     "base_uri": "https://localhost:8080/",
     "height": 69
    },
    "id": "yEO1I-P2DpLp",
    "outputId": "17c8508d-1071-40fe-9735-2a6d37ae705c"
   },
   "outputs": [
    {
     "name": "stdout",
     "output_type": "stream",
     "text": [
      "[1.0e-03 1.8e+00 2.0e+00 8.0e-01]\n",
      "Doing G-learning, it may take a few seconds...\n",
      "0.2059550559294224\n"
     ]
    }
   ],
   "source": [
    "# test evaluation of the loss function with the true parameters\n",
    "x_ask=np.array([omega, eta, rho])*sc\n",
    "f_ask=fun(x_ask*sc, False, 1e-9, constraint=False)"
   ]
  },
  {
   "cell_type": "code",
   "execution_count": 58,
   "metadata": {},
   "outputs": [
    {
     "name": "stdout",
     "output_type": "stream",
     "text": [
      "[1.0e-03 2.3e+00 1.7e+00 8.0e-01]\n",
      "Doing G-learning, it may take a few seconds...\n",
      "4.23209700276661\n"
     ]
    },
    {
     "data": {
      "text/plain": [
       "4.23209700276661"
      ]
     },
     "execution_count": 58,
     "metadata": {},
     "output_type": "execute_result"
    }
   ],
   "source": [
    "# test evaluation of the loss function with the initial parameters\n",
    "fun(x0*sc, False, 1e-9, constraint=False)"
   ]
  },
  {
   "cell_type": "code",
   "execution_count": 59,
   "metadata": {},
   "outputs": [],
   "source": [
    "# choose bounds for parameters\n",
    "bnds=((1.5*sc[0], 2.5*sc[0]), (1.0*sc[1], 2.5*sc[1]), (0.0*sc[2],1.0*sc[2]))"
   ]
  },
  {
   "cell_type": "code",
   "execution_count": 60,
   "metadata": {},
   "outputs": [
    {
     "name": "stdout",
     "output_type": "stream",
     "text": [
      "[1.0e-03 2.3e+00 1.7e+00 8.0e-01]\n",
      "Doing G-learning, it may take a few seconds...\n",
      "4.23209700276661\n",
      "[1.000e-03 2.301e+00 1.700e+00 8.000e-01]\n",
      "Doing G-learning, it may take a few seconds...\n",
      "4.23669879731977\n",
      "[1.000e-03 2.300e+00 1.701e+00 8.000e-01]\n",
      "Doing G-learning, it may take a few seconds...\n",
      "4.214610410217285\n",
      "[1.00e-03 2.30e+00 1.70e+00 8.01e-01]\n",
      "Doing G-learning, it may take a few seconds...\n",
      "4.227531463107705\n",
      "[1.0e-03 1.5e+00 2.5e+00 1.0e+00]\n",
      "Doing G-learning, it may take a few seconds...\n",
      "9.47524117827081\n",
      "[1.000e-03 1.501e+00 2.500e+00 1.000e+00]\n",
      "Doing G-learning, it may take a few seconds...\n",
      "9.480850074497138\n",
      "[1.000e-03 1.500e+00 2.499e+00 1.000e+00]\n",
      "Doing G-learning, it may take a few seconds...\n",
      "9.474665285965127\n",
      "[1.00e-03 1.50e+00 2.50e+00 9.99e-01]\n",
      "Doing G-learning, it may take a few seconds...\n",
      "9.293522452553262\n",
      "[1.0000000e-03 1.9794337e+00 2.0205665e+00 8.8014162e-01]\n",
      "Doing G-learning, it may take a few seconds...\n",
      "1.7747367590031327\n",
      "[1.0000000e-03 1.9804336e+00 2.0205665e+00 8.8014162e-01]\n",
      "Doing G-learning, it may take a few seconds...\n",
      "1.7779595911184252\n",
      "[1.0000000e-03 1.9794337e+00 2.0215664e+00 8.8014162e-01]\n",
      "Doing G-learning, it may take a few seconds...\n",
      "1.771233993819058\n",
      "[1.0000000e-03 1.9794337e+00 2.0205665e+00 8.8114160e-01]\n",
      "Doing G-learning, it may take a few seconds...\n",
      "1.8098637715155186\n",
      "[1.0000000e-03 1.7738812e+00 2.2320848e+00 7.8187579e-01]\n",
      "Doing G-learning, it may take a few seconds...\n",
      "1.4733303537988665\n",
      "[1.0000000e-03 1.7748811e+00 2.2320848e+00 7.8187579e-01]\n",
      "Doing G-learning, it may take a few seconds...\n",
      "1.4727157054857016\n",
      "[1.0000000e-03 1.7738812e+00 2.2330849e+00 7.8187579e-01]\n",
      "Doing G-learning, it may take a few seconds...\n",
      "1.4840344180289509\n",
      "[1.0000000e-03 1.7738812e+00 2.2320848e+00 7.8287578e-01]\n",
      "Doing G-learning, it may take a few seconds...\n",
      "1.4601926782286168\n",
      "[1.0000000e-03 1.9141551e+00 2.0799601e+00 8.0222034e-01]\n",
      "Doing G-learning, it may take a few seconds...\n",
      "0.28968600746512413\n",
      "[1.0000000e-03 1.9151552e+00 2.0799601e+00 8.0222034e-01]\n",
      "Doing G-learning, it may take a few seconds...\n",
      "0.2895988220909834\n",
      "[1.0000000e-03 1.9141551e+00 2.0809600e+00 8.0222034e-01]\n",
      "Doing G-learning, it may take a few seconds...\n",
      "0.2912419129767418\n",
      "[1.0000000e-03 1.9141551e+00 2.0799601e+00 8.0322039e-01]\n",
      "Doing G-learning, it may take a few seconds...\n",
      "0.29184288949477677\n",
      "[1.0000000e-03 1.9458919e+00 2.0471573e+00 7.9491162e-01]\n",
      "Doing G-learning, it may take a few seconds...\n",
      "0.24716121194362642\n",
      "[1.0000000e-03 1.9468918e+00 2.0471573e+00 7.9491162e-01]\n",
      "Doing G-learning, it may take a few seconds...\n",
      "0.2474091938365698\n",
      "[1.0000000e-03 1.9458919e+00 2.0481575e+00 7.9491162e-01]\n",
      "Doing G-learning, it may take a few seconds...\n",
      "0.24691271514964105\n",
      "[1.0000000e-03 1.9458919e+00 2.0471573e+00 7.9591161e-01]\n",
      "Doing G-learning, it may take a few seconds...\n",
      "0.24914274888527396\n",
      "[1.0000000e-03 1.9380461e+00 2.0470245e+00 7.9005808e-01]\n",
      "Doing G-learning, it may take a few seconds...\n",
      "0.23635661232054234\n",
      "[1.0000000e-03 1.9390460e+00 2.0470245e+00 7.9005808e-01]\n",
      "Doing G-learning, it may take a few seconds...\n",
      "0.23658617616307737\n",
      "[1.0000000e-03 1.9380461e+00 2.0480247e+00 7.9005808e-01]\n",
      "Doing G-learning, it may take a few seconds...\n",
      "0.23675360485780242\n",
      "[1.0000000e-03 1.9380461e+00 2.0470245e+00 7.9105806e-01]\n",
      "Doing G-learning, it may take a few seconds...\n",
      "0.2372559054450989\n"
     ]
    }
   ],
   "source": [
    "# L-BFGS-B for gradient solver with bounds\n",
    "res = minimize(fun, x0, method='L-BFGS-B', bounds=bnds, args=(False, 1e-9, False), \n",
    "               options={'disp': True, 'iprint':1, 'maxiter':10, 'eps':1e-3,'gtol':1e-6, 'ftol':0.1*abs(f_ask)}, tol=1e-3) "
   ]
  },
  {
   "cell_type": "code",
   "execution_count": 61,
   "metadata": {},
   "outputs": [
    {
     "data": {
      "text/plain": [
       "  message: CONVERGENCE: RELATIVE REDUCTION OF F <= FACTR*EPSMCH\n",
       "  success: True\n",
       "   status: 0\n",
       "      fun: 0.23635661232054234\n",
       "        x: [ 1.938e+00  2.047e+00  7.901e-01]\n",
       "      nit: 5\n",
       "      jac: [ 2.296e-01  3.970e-01  8.993e-01]\n",
       "     nfev: 28\n",
       "     njev: 7\n",
       " hess_inv: <3x3 LbfgsInvHessProduct with dtype=float64>"
      ]
     },
     "execution_count": 61,
     "metadata": {},
     "output_type": "execute_result"
    }
   ],
   "source": [
    "res"
   ]
  },
  {
   "cell_type": "code",
   "execution_count": 62,
   "metadata": {
    "colab": {
     "base_uri": "https://localhost:8080/",
     "height": 34
    },
    "id": "9TcGgfihDQG1",
    "outputId": "16c1069e-f90d-443f-f897-87c7d9ea3892"
   },
   "outputs": [
    {
     "name": "stdout",
     "output_type": "stream",
     "text": [
      "[0.001, 1.9380460644572015, 2.0470245554864652, 0.7900580646750187]\n"
     ]
    }
   ],
   "source": [
    "#print results. Note that these may differ from the actual G-learner parameters depending on the optimizer. \n",
    "# The optimizer will attempt to find the closest set of parameters.\n",
    "results=list(res.x/sc)\n",
    "results.insert(0, lambd)\n",
    "print(results)"
   ]
  },
  {
   "cell_type": "markdown",
   "metadata": {},
   "source": [
    "## Evaluate the performance of GIRL"
   ]
  },
  {
   "cell_type": "code",
   "execution_count": 63,
   "metadata": {},
   "outputs": [],
   "source": [
    "# Create a G-learner\n",
    "G_learner = G_learning_portfolio_opt(num_steps,\n",
    "                 results,  \n",
    "                 beta,                \n",
    "                 benchmark_portf,\n",
    "                 gamma, \n",
    "                 num_risky_assets,\n",
    "                 R,\n",
    "                 np.array(expected_risky_returns, dtype='float64'), # array of shape num_steps x num_stocks\n",
    "                 Sigma_r,     # covariance matrix of returns of risky matrix                    \n",
    "                 x_vals_init, # array of initial values of len (num_stocks+1)\n",
    "                 use_for_WM = True) # use for wealth management tasks"
   ]
  },
  {
   "cell_type": "code",
   "execution_count": 64,
   "metadata": {},
   "outputs": [
    {
     "name": "stdout",
     "output_type": "stream",
     "text": [
      "Doing G-learning, it may take a few seconds...\n"
     ]
    }
   ],
   "source": [
    "G_learner.reset_prior_policy()\n",
    "G_learner.G_learning(error_tol, max_iter_RL)"
   ]
  },
  {
   "cell_type": "code",
   "execution_count": 65,
   "metadata": {},
   "outputs": [
    {
     "name": "stdout",
     "output_type": "stream",
     "text": [
      "Done simulating trajectories in 19.049601 sec\n"
     ]
    }
   ],
   "source": [
    "num_sim = 500\n",
    "\n",
    "np.random.seed(44)\n",
    "torch.manual_seed(44)\n",
    "t_0 = time.time()\n",
    "x_vals = [x_vals_init.astype(float)]\n",
    "returns_all = []\n",
    "consumption_GIRL = np.zeros(num_steps, dtype='float64')\n",
    "\n",
    "for n in range(num_sim):\n",
    "    x_t = x_vals_init.astype(float).copy()\n",
    "    returns_array = []\n",
    "    for t in range(num_steps):\n",
    "        mu_t = G_learner.u_bar_prior[t, :] + G_learner.v_bar_prior[t, :].mv(torch.tensor(x_t, dtype=torch.float64))\n",
    "        u_t = np.random.multivariate_normal(mu_t.detach().numpy(), G_learner.Sigma_prior[t, :].detach().numpy())\n",
    "        # compute new values of x_t\n",
    "        x_next = x_t + u_t\n",
    "        risky_asset_return = risky_asset_returns.iloc[t, :].astype(float)\n",
    "        returns = np.hstack((R * dt, risky_asset_return))\n",
    "        x_next = (1 + returns) * x_next\n",
    "        port_returns = (x_next.sum() - x_t.sum() - np.sum(u_t) - fee_stock * np.abs(u_t).sum()) / x_t.sum()\n",
    "        consumption_GIRL[t] += np.sum(u_t)\n",
    "        x_t = x_next.copy()  # ensure we keep float dtype\n",
    "        returns_array.append(port_returns)\n",
    "    # end the loop over time steps\n",
    "    returns_all.append(returns_array)\n",
    "\n",
    "print('Done simulating trajectories in %f sec' % (time.time() - t_0))"
   ]
  },
  {
   "cell_type": "code",
   "execution_count": 66,
   "metadata": {},
   "outputs": [
    {
     "data": {
      "text/plain": [
       "Text(0, 0.5, 'Consumption')"
      ]
     },
     "execution_count": 66,
     "metadata": {},
     "output_type": "execute_result"
    },
    {
     "data": {
      "image/png": "[encoded data removed]",
      "text/plain": [
       "<Figure size 640x480 with 1 Axes>"
      ]
     },
     "metadata": {},
     "output_type": "display_data"
    }
   ],
   "source": [
    "plt.plot(investment_periods,consumption/num_sim, label='G-learning (' + str(np.round(np.sum(consumption/num_sim),3)) + ')', color='red')\n",
    "plt.plot(investment_periods,consumption_GIRL/num_sim, label='GIRL (' + str(np.round(np.sum(consumption_GIRL/num_sim),3)) + ')', color='blue')\n",
    "plt.legend()\n",
    "plt.xlabel('Period')\n",
    "plt.ylabel('Consumption')"
   ]
  },
  {
   "cell_type": "code",
   "execution_count": 67,
   "metadata": {},
   "outputs": [
    {
     "name": "stdout",
     "output_type": "stream",
     "text": [
      "0.44834388351316606\n"
     ]
    }
   ],
   "source": [
    "returns_all_GIRL=returns_all\n",
    "\n",
    "SR_GIRL=0\n",
    "for i in range(num_sim):\n",
    "  SR_GIRL+=(np.mean(returns_all_GIRL[i])-R*dt)/np.std(returns_all_GIRL[i])\n",
    "\n",
    "SR_GIRL/=num_sim\n",
    "print(SR_GIRL)\n",
    "\n",
    "r_GIRL=np.array([0]*num_steps, dtype='float64')\n",
    "for n in range(num_steps):\n",
    "  for i in range(num_sim):\n",
    "    r_GIRL[n]+=returns_all_GIRL[i][n]\n",
    "  r_GIRL[n]/=num_sim"
   ]
  },
  {
   "cell_type": "code",
   "execution_count": 68,
   "metadata": {},
   "outputs": [
    {
     "data": {
      "text/plain": [
       "Text(0, 0.5, 'Sample Mean Returns')"
      ]
     },
     "execution_count": 68,
     "metadata": {},
     "output_type": "execute_result"
    },
    {
     "data": {
      "image/png": "[encoded data removed]",
      "text/plain": [
       "<Figure size 640x480 with 1 Axes>"
      ]
     },
     "metadata": {},
     "output_type": "display_data"
    }
   ],
   "source": [
    "plt.plot(investment_periods, r_G, label='G-learning (' + str(np.round(SR_G,3)) + ')', color='red')\n",
    "plt.plot(investment_periods,r_fixed, label='Equi-weighted (' + str(np.round(SR_fixed,3)) + ')', color='black')\n",
    "plt.plot(investment_periods,r_GIRL, label='GIRL (' + str(np.round(SR_GIRL,3)) + ')', color='blue')\n",
    "\n",
    "plt.legend()\n",
    "plt.xlabel('time (quarters)')\n",
    "plt.ylabel('Sample Mean Returns')"
   ]
  },
  {
   "cell_type": "code",
   "execution_count": null,
   "metadata": {},
   "outputs": [],
   "source": []
  }
 ],
 "metadata": {
  "colab": {
   "collapsed_sections": [],
   "machine_shape": "hm",
   "name": "Wealth_Management_GIRL.ipynb",
   "provenance": []
  },
  "kernelspec": {
   "display_name": "py312",
   "language": "python",
   "name": "python3"
  },
  "language_info": {
   "codemirror_mode": {
    "name": "ipython",
    "version": 3
   },
   "file_extension": ".py",
   "mimetype": "text/x-python",
   "name": "python",
   "nbconvert_exporter": "python",
   "pygments_lexer": "ipython3",
   "version": "3.12.9"
  }
 },
 "nbformat": 4,
 "nbformat_minor": 1
}
