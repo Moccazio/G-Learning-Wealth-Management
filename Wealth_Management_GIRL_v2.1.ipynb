{
 "cells": [
  {
   "cell_type": "code",
   "execution_count": 1,
   "metadata": {
    "id": "Vc1tLT83PQMd"
   },
   "outputs": [],
   "source": [
    "# ML_in_Finance-GIRL-wealth-management\n",
    "# Author: Igor Halperin and Matthew Dixon\n",
    "# Version: 1.0 (12.8.2019)\n",
    "# License: MIT\n",
    "# Email: ighalp@gmail.com\n",
    "# Notes: tested on Mac OS X with Python 3.6 and PyTorch 1.3.0\n",
    "# Citation: Please cite the following reference if this notebook is used for research purposes:\n",
    "# Dixon M.F., I. Halperin and P. Bilokon, Machine Learning in Finance: From Theory to Practice, Springer Graduate textbook Series, 2020. "
   ]
  },
  {
   "cell_type": "markdown",
   "metadata": {
    "id": "uXdeHDmEPQM6"
   },
   "source": [
    "## Overview \n",
    "\n",
    "This notebook demonstrates the application of G-learning and GIRL for optimization of a defined contribution retirement plan. The notebook extends the G-learning notebook in Chapter 10 with an example of applying GIRL to infer the parameters of the G-learner used to generate the trajectories."
   ]
  },
  {
   "cell_type": "code",
   "execution_count": 2,
   "metadata": {
    "id": "vOoE16hWPQNC"
   },
   "outputs": [],
   "source": [
    "import time\n",
    "import warnings\n",
    "warnings.filterwarnings('ignore')\n",
    "\n",
    "import numpy as np\n",
    "import matplotlib\n",
    "matplotlib.use('Agg')\n",
    "import matplotlib.pyplot as plt \n",
    "%matplotlib inline\n",
    "import torch\n",
    "import torch.optim as optim\n",
    "import pandas as pd\n",
    "import scipy \n",
    "from scipy.optimize import minimize\n",
    "from scipy.stats import linregress\n",
    "from pandas_datareader import data\n",
    "from G_learning_portfolio_opt import G_learning_portfolio_opt\n",
    "from get_loss_function import *\n",
    "import gc\n",
    "%load_ext autoreload\n",
    "\n",
    "%autoreload 2"
   ]
  },
  {
   "cell_type": "code",
   "execution_count": 3,
   "metadata": {
    "colab": {
     "base_uri": "https://localhost:8080/",
     "height": 35
    },
    "id": "M-6MadDnPQNO",
    "outputId": "3beace7c-5af9-41db-c360-65bc53aa23c0"
   },
   "outputs": [
    {
     "data": {
      "text/plain": [
       "'1.3.1'"
      ]
     },
     "execution_count": 3,
     "metadata": {},
     "output_type": "execute_result"
    }
   ],
   "source": [
    "torch.__version__"
   ]
  },
  {
   "cell_type": "code",
   "execution_count": 4,
   "metadata": {
    "colab": {
     "base_uri": "https://localhost:8080/"
    },
    "id": "PHyhUTpJ4nl1",
    "outputId": "55fa7fe3-28dd-4a1e-8686-b3a366652e14"
   },
   "outputs": [
    {
     "name": "stdout",
     "output_type": "stream",
     "text": [
      "env: KMP_DUPLICATE_LIB_OK=TRUE\n"
     ]
    }
   ],
   "source": [
    "%env KMP_DUPLICATE_LIB_OK=TRUE"
   ]
  },
  {
   "cell_type": "code",
   "execution_count": 5,
   "metadata": {
    "id": "S0yKeMU9PQNa"
   },
   "outputs": [],
   "source": [
    "# set the device\n",
    "device = 'cuda' if torch.cuda.is_available() else 'cpu'"
   ]
  },
  {
   "cell_type": "markdown",
   "metadata": {
    "id": "N_8XeDlpPQOV"
   },
   "source": [
    "## Simulate portfolio data"
   ]
  },
  {
   "cell_type": "markdown",
   "metadata": {
    "id": "DNFzG5dgPQPB"
   },
   "source": [
    "### Extract market and stock data"
   ]
  },
  {
   "cell_type": "code",
   "execution_count": 6,
   "metadata": {},
   "outputs": [],
   "source": [
    "start_year= 2011 # For CAPM regression\n",
    "end_year=2020\n",
    "R = 0.01/4  # quarterly risk free rate\n",
    "N=252\n",
    "dt = 1\n",
    "num_risky_assets = 99 \n",
    "quarters=['01-01', '03-31', '06-30', '09-30','12-31']\n",
    "start_date=quarters[0] +'-'+str(start_year)\n",
    "end_date=quarters[4] +'-'+str(end_year)\n",
    "periods=[]\n",
    "for year in range(start_year, end_year):\n",
    "    for j in range(0,4):\n",
    "        periods.append(str(year)+'Q'+str(j+1))\n",
    "        \n",
    "bAcquire = False # toggle to True to acquire data        "
   ]
  },
  {
   "cell_type": "code",
   "execution_count": 7,
   "metadata": {},
   "outputs": [],
   "source": [
    "tickers=['AAPL', 'ACLS', 'ADBE', 'ALLT', 'ALOT', 'AMAT', 'AMKR', 'ANSS', 'ASML',\n",
    "       'AVGO', 'AVID', 'AWRE', 'AXTI', 'AZPN', 'BBSI', 'BIDU', 'BLKB', 'BRKS',\n",
    "       'CAMP', 'CCMP', 'CCRN', 'CERN', 'CHKP', 'CPSI', 'CREE', 'CRUS', 'CSCO',\n",
    "       'CSGS', 'CSIQ', 'CSPI', 'CTSH', 'CTXS', 'CVLT', 'DGII', 'DSPG', 'EGAN',\n",
    "       'ELTK', 'EMKR', 'EPAY', 'ERII', 'EVOL', 'EXTR', 'FFIV', 'FISV', 'FLEX',\n",
    "       'FORM', 'FSLR', 'FTNT', 'GLUU', 'GOOG', 'GSIT', 'HIMX', 'HLIT', 'HSII',\n",
    "       'HSTM', 'IDN', 'IMMR', 'INOD', 'INTU', 'IPGP', 'ISSC', 'ITRN', 'IVAC',\n",
    "       'JCOM', 'JKHY', 'JOBS', 'KFRC', 'KOPN', 'KTCC', 'KVHI', 'LOGI', 'LPSN',\n",
    "       'LPTH', 'LRCX', 'LTRX', 'MANH', 'MCHP', 'MGIC', 'MGRC', 'MOSY', 'MPWR',\n",
    "       'MRVL', 'MSFT', 'MSTR', 'MXIM', 'NATI', 'NTAP', 'NTCT', 'NVDA', 'OMCL',\n",
    "       'OSIS', 'OTEX', 'PCTI', 'PDFS', 'PEGA', 'PLAB', 'PLUS', 'PRFT', 'PXLW'] ## 99 symbols"
   ]
  },
  {
   "cell_type": "code",
   "execution_count": 8,
   "metadata": {},
   "outputs": [],
   "source": [
    "if bAcquire:\n",
    "    stock_data = data.DataReader(tickers, 'yahoo', start_date, end_date)['Adj Close']\n",
    "    stock_data.to_csv('stockdata2011-2021.csv', header=tickers)\n",
    "else:\n",
    "    stock_data=pd.read_csv('stockdata2011-2021.csv')\n",
    "    stock_data= stock_data.set_index('Date')\n",
    "    stock_data.index=pd.to_datetime(stock_data.index) "
   ]
  },
  {
   "cell_type": "code",
   "execution_count": 9,
   "metadata": {},
   "outputs": [],
   "source": [
    "if bAcquire:\n",
    "    market_data= data.DataReader('^GSPC', 'yahoo', start_date, end_date)['Adj Close']\n",
    "    market_data.to_csv('marketdata2011-2021.csv', header=['^GSPC'])\n",
    "else:    \n",
    "    market_data=pd.read_csv('marketdata2011-2021.csv')\n",
    "    market_data=market_data.set_index('Date')\n",
    "    market_data.index=pd.to_datetime(market_data.index) "
   ]
  },
  {
   "cell_type": "code",
   "execution_count": 10,
   "metadata": {},
   "outputs": [],
   "source": [
    "risky_asset_returns=stock_data[tickers].pct_change(periods=1)\n",
    "market_returns=market_data.pct_change(periods=1)\n",
    "\n",
    "risky_asset_returns=risky_asset_returns.dropna()\n",
    "market_returns=market_returns.dropna()\n",
    "risky_asset_returns.index=pd.to_datetime(risky_asset_returns.index)  \n",
    "market_returns.index=pd.to_datetime(market_returns.index)  \n",
    "\n",
    "risky_asset_vol = risky_asset_returns.std()\n",
    "market_vol = market_returns.std()"
   ]
  },
  {
   "cell_type": "code",
   "execution_count": 11,
   "metadata": {},
   "outputs": [],
   "source": [
    "# Use CAPM to estimate the expected risky asset returns\n",
    "def get_expected_R_CAPM():\n",
    "    expected_R = pd.DataFrame(index = tickers,columns = periods)\n",
    "    \n",
    "    print(\"Period, R^2, slope, intercept\")\n",
    "    for year in range(start_year+1,end_year):\n",
    "      for j in range(0,4): \n",
    "       \n",
    "        if (j==0): #always fit CAPM from the previous period\n",
    "            mask = (risky_asset_returns.index > str(year-1)+'-'+quarters[2]) & (risky_asset_returns.index < str(year-1)+'-'+quarters[3])\n",
    "        else:    \n",
    "            mask = (risky_asset_returns.index > str(year)+'-'+quarters[j-1]) & (risky_asset_returns.index < str(year)+'-'+quarters[j])\n",
    "        \n",
    "        x = market_returns.loc[mask].values \n",
    "        xs_rets=[]\n",
    "        xs_rets_M=[]\n",
    "        xs_ret_M = (1+np.mean(x))**252/4 -1-R # quarterly excess expected market returns\n",
    "          \n",
    "        for ticker in tickers:\n",
    "           #print(str(year)+'-'+quarters[j])\n",
    "           \n",
    "           if (j==0): #always fit CAPM from the previous period\n",
    "                mask = (stock_data[ticker].index > str(year-1)+'-'+quarters[2]) & (stock_data[ticker].index < str(year-1)+'-'+quarters[3])\n",
    "           else:    \n",
    "                mask = (stock_data[ticker].index > str(year)+'-'+quarters[j-1]) & (stock_data[ticker].index < str(year)+'-'+quarters[j])\n",
    "       \n",
    "           prices = stock_data.loc[mask][ticker].values \n",
    "          \n",
    "           xs_ret= (prices[-1] - prices[0])/prices[0] -R # quarterly excess risky asset returns\n",
    "           \n",
    "           xs_rets.append(xs_ret)\n",
    "            \n",
    "           if (j==0): #always fit CAPM from the previous period\n",
    "             mask = (risky_asset_returns.index > str(year-1)+'-'+quarters[2]) & (risky_asset_returns.index < str(year-1)+'-'+quarters[3])\n",
    "           else:    \n",
    "             mask = (risky_asset_returns.index > str(year)+'-'+quarters[j-1]) & (risky_asset_returns.index < str(year)+'-'+quarters[j])\n",
    "        \n",
    "           y = risky_asset_returns.loc[mask][ticker].values.flatten() # extract all dates in each year      \n",
    "           x = market_returns.loc[mask].values.flatten() \n",
    "           \n",
    "           beta = np.cov(x,y)[0,1]/np.var(x)\n",
    "           xs_rets_M.append(beta*xs_ret_M)\n",
    "            \n",
    "        model=linregress(xs_rets_M,xs_rets) # fit CAPM model\n",
    "        print(str(year)+'-'+str(quarters[j]), model.rvalue, model.intercept, model.slope)\n",
    "        \n",
    "        mask = (risky_asset_returns.index > str(year)+'-'+quarters[j]) & (risky_asset_returns.index < str(year)+'-'+quarters[j+1])\n",
    "        x = market_returns.loc[mask].values.flatten()    \n",
    "        for ticker in tickers:\n",
    "            y = risky_asset_returns.loc[mask][ticker].values.flatten() # extract all dates in each year      \n",
    "            if len(x)==len(y):\n",
    "                beta = np.cov(x,y)[0,1]/np.var(x)\n",
    "                expected_R.loc[ticker,str(year)+'Q'+str(j+1)] = R+ model.intercept + model.slope*beta*((1+np.mean(x))**252/4 -1-R)    \n",
    "            else:\n",
    "                print('Error in ' + ticker + \",\" + str(len(x)) + \",\" + str(len(y)))\n",
    "     \n",
    "    return expected_R"
   ]
  },
  {
   "cell_type": "code",
   "execution_count": 12,
   "metadata": {},
   "outputs": [],
   "source": [
    "# Use OLS on historical training data for each each ticker \n",
    "def get_expected_R_OLS():\n",
    "    expected_R = pd.DataFrame(index = tickers,columns = periods)\n",
    "    \n",
    "    \n",
    "    for ticker in tickers:\n",
    "        print(\"Period, R^2, slope, intercept\")\n",
    "        ys_rets=[]\n",
    "        xs_rets_M=[]\n",
    "        for year in range(start_year+1,end_year-2):\n",
    "              for j in range(0,4): \n",
    "                 if (j==0): #always fit CAPM from the previous period\n",
    "                    mask = (stock_data[ticker].index > str(year-1)+'-'+quarters[2]) & (stock_data[ticker].index < str(year-1)+'-'+quarters[3])\n",
    "                 else:    \n",
    "                    mask = (stock_data[ticker].index > str(year)+'-'+quarters[j-1]) & (stock_data[ticker].index < str(year)+'-'+quarters[j])\n",
    "          \n",
    "                      \n",
    "                 prices = stock_data.loc[mask][ticker].values \n",
    "          \n",
    "                 ys_ret= (prices[-1] - prices[0])/prices[0] -R # quarterly excess risky asset returns\n",
    "           \n",
    "                 ys_rets.append(ys_ret)\n",
    "                  \n",
    "                 if (j==0): #always fit CAPM from the previous period\n",
    "                    mask = (risky_asset_returns.index > str(year-1)+'-'+quarters[2]) & (risky_asset_returns.index < str(year-1)+'-'+quarters[3])\n",
    "                 else:    \n",
    "                    mask = (risky_asset_returns.index > str(year)+'-'+quarters[j-1]) & (risky_asset_returns.index < str(year)+'-'+quarters[j])\n",
    "          \n",
    "                \n",
    "                 x = market_returns.loc[mask].values.flatten() \n",
    "                 xs_ret_M = (1+np.mean(x))**252/4 -1-R # quarterly excess expected market returns\n",
    "                 y = risky_asset_returns.loc[mask][ticker].values.flatten() # extract all dates in each year\n",
    "                \n",
    "                 if len(x)==len(y):\n",
    "                     beta = np.cov(x,y)[0,1]/np.var(x)\n",
    "                     xs_rets_M.append(beta*xs_ret_M)\n",
    "                 else:\n",
    "                     print('Error in ' + ticker + \",\" + str(len(x)) + \",\" + str(len(y)))\n",
    "        model=linregress(xs_rets_M,ys_rets) \n",
    "        \n",
    "        print(ticker, model.rvalue, model.intercept, model.slope)\n",
    "        for year in range(end_year-2,end_year):\n",
    "              for j in range(0,4): \n",
    "                 if (j==0): #always fit CAPM from the previous period\n",
    "                    mask = (risky_asset_returns.index > str(year-1)+'-'+quarters[2]) & (risky_asset_returns.index < str(year-1)+'-'+quarters[3])\n",
    "                 else:    \n",
    "                    mask = (risky_asset_returns.index > str(year)+'-'+quarters[j-1]) & (risky_asset_returns.index < str(year)+'-'+quarters[j])\n",
    "          \n",
    "                 x = market_returns.loc[mask].values.flatten()    \n",
    "                 y = risky_asset_returns.loc[mask][ticker].values.flatten() # extract all dates in each year\n",
    "                 \n",
    "                 if len(x)==len(y):\n",
    "                    beta = np.cov(x,y)[0,1]/np.var(x)\n",
    "                    expected_R.loc[ticker,str(year)+'Q'+str(j+1)] = R+ model.intercept + model.slope*beta*((1+np.mean(x))**252/4 -1-R)    \n",
    "                 else:\n",
    "                    print('Error in ' + ticker + \",\" + str(len(x)) + \",\" + str(len(y)))\n",
    "\n",
    "    return expected_R"
   ]
  },
  {
   "cell_type": "code",
   "execution_count": 13,
   "metadata": {},
   "outputs": [],
   "source": [
    "# Use OLS on historical training data for each each ticker \n",
    "def get_expected_R_Oracle(c):\n",
    "    expected_R = pd.DataFrame(index = tickers,columns = periods)\n",
    "    \n",
    "    \n",
    "    for ticker in tickers:\n",
    "        print(\"Period, R^2, slope, intercept\")\n",
    "        ys_rets=[]\n",
    "        xs_rets_M=[]\n",
    "        \n",
    "        \n",
    "        xs_rets = []\n",
    "        ys_rets = []\n",
    "        for year in range(start_year+1,end_year):\n",
    "              for j in range(0,4): \n",
    "                 if (j==0): #always fit CAPM from the previous period\n",
    "                    mask = (stock_data[ticker].index > str(year-1)+'-'+quarters[2]) & (stock_data[ticker].index < str(year-1)+'-'+quarters[3])\n",
    "                 else:    \n",
    "                    mask = (stock_data[ticker].index > str(year)+'-'+quarters[j-1]) & (stock_data[ticker].index < str(year)+'-'+quarters[j])\n",
    "          \n",
    "                      \n",
    "                 prices = stock_data.loc[mask][ticker].values \n",
    "          \n",
    "                 if (j==0): #always fit CAPM from the previous period\n",
    "                    mask = (risky_asset_returns.index > str(year-1)+'-'+quarters[2]) & (risky_asset_returns.index < str(year-1)+'-'+quarters[3])\n",
    "                 else:    \n",
    "                    mask = (risky_asset_returns.index > str(year)+'-'+quarters[j-1]) & (risky_asset_returns.index < str(year)+'-'+quarters[j])\n",
    "          \n",
    "                    \n",
    "                 y = risky_asset_returns.loc[mask][ticker].values # extract all dates in each year  \n",
    "                 x = market_returns.loc[mask].values \n",
    "                   \n",
    "                 mu = (1+np.mean(x))**252/4 -1-R # quarterly excess expected market returns\n",
    "                 sigma= np.std(x)*2 # scale by sqrt(4)\n",
    "                 if len(x)==len(y):\n",
    "                     \n",
    "                     beta = np.cov(x.flatten(),y.flatten())[0,1]/np.var(x.flatten())\n",
    "                     ret= (prices[-1] - prices[0])/prices[0]# quarterly excess risky asset returns\n",
    "                     xs_rets.append(c*ret + (1-c)*beta*(sigma*np.random.randn() +mu) -R)\n",
    "                     expected_R.loc[ticker,str(year)+'Q'+str(j+1)] = R+xs_rets[-1]    \n",
    "                     ys_rets.append(ret)\n",
    "                 else:\n",
    "                     print('Error in ' + ticker + \",\" + str(len(x)) + \",\" + str(len(y)))\n",
    "        model=linregress(xs_rets,ys_rets) \n",
    "        \n",
    "        print(ticker, model.rvalue, model.intercept, model.slope)\n",
    "                \n",
    "    return expected_R"
   ]
  },
  {
   "cell_type": "code",
   "execution_count": 14,
   "metadata": {},
   "outputs": [
    {
     "name": "stdout",
     "output_type": "stream",
     "text": [
      "Period, R^2, slope, intercept\n",
      "AAPL 0.41285767099921095 0.2297547105496882 0.2292179030542845\n",
      "Period, R^2, slope, intercept\n",
      "ACLS -0.20330992712538257 -0.09583206645220471 -0.1023391859899275\n",
      "Period, R^2, slope, intercept\n",
      "ADBE 0.08655997087655036 0.09686865774988071 0.0510001712753753\n",
      "Period, R^2, slope, intercept\n",
      "ALLT -0.23745969963539307 -0.1478460532694365 -0.07812773283811175\n",
      "Period, R^2, slope, intercept\n",
      "ALOT 0.44902253210223075 0.04176381981802112 0.15449920547518203\n",
      "Period, R^2, slope, intercept\n",
      "AMAT -0.17389830024350006 -0.04639333044121132 -0.10119068987517803\n",
      "Period, R^2, slope, intercept\n",
      "AMKR -0.07180193240015519 -0.02952414948029965 -0.043227417686834205\n",
      "Period, R^2, slope, intercept\n",
      "ANSS 0.10161491936575741 0.070723141499682 0.046516774315761227\n",
      "Period, R^2, slope, intercept\n",
      "ASML 0.07654213625457018 0.09768914489634017 0.041429617176533005\n",
      "Period, R^2, slope, intercept\n",
      "AVGO 0.45062840684470346 0.3413616188123618 0.2305347148296311\n",
      "Period, R^2, slope, intercept\n",
      "AVID -0.06774607252665346 -0.04410299279285372 -0.030653358983145893\n",
      "Period, R^2, slope, intercept\n",
      "AWRE -0.003992436717676107 0.03533595454240217 -0.005185845531322812\n",
      "Period, R^2, slope, intercept\n",
      "AXTI -0.24587516037701992 -0.0653940165147656 -0.09931100177257389\n",
      "Period, R^2, slope, intercept\n",
      "AZPN 0.11358411687319812 0.09483959057031005 0.05752130831961666\n",
      "Period, R^2, slope, intercept\n",
      "BBSI 0.24140481109494133 0.17890011626051347 0.14064679107992156\n",
      "Period, R^2, slope, intercept\n",
      "BIDU -0.15695375398156958 -0.09983780669591408 -0.15115353769888198\n",
      "Period, R^2, slope, intercept\n",
      "BLKB 0.1997450727963609 0.09942374365516386 0.07637628817654031\n",
      "Period, R^2, slope, intercept\n",
      "BRKS -0.2733446855048963 -0.09765131417946876 -0.10605111610265391\n",
      "Period, R^2, slope, intercept\n",
      "CAMP 0.228324753946427 0.1042536931405979 0.08156045932815775\n",
      "Period, R^2, slope, intercept\n",
      "CCMP -0.015531511026249131 0.005164736095204227 -0.008170633573277002\n",
      "Period, R^2, slope, intercept\n",
      "CCRN 0.26538729896415836 0.09893048233632071 0.1089348170560525\n",
      "Period, R^2, slope, intercept\n",
      "CERN 0.019939922331428994 0.05218776821457609 0.00968129774097921\n",
      "Period, R^2, slope, intercept\n",
      "CHKP 0.11062823813985481 0.043414491421270955 0.037284408656611034\n",
      "Period, R^2, slope, intercept\n",
      "CPSI -0.6590967051126143 -0.20108137834431108 -0.3004051322263426\n",
      "Period, R^2, slope, intercept\n",
      "CREE -0.12625173781469465 -0.08144495527289843 -0.06469175855324555\n",
      "Period, R^2, slope, intercept\n",
      "CRUS 0.08084649938880555 0.16080935221624254 0.044225205397556894\n",
      "Period, R^2, slope, intercept\n",
      "CSCO 0.1274064830089932 0.06709696098608861 0.04971186509567972\n",
      "Period, R^2, slope, intercept\n",
      "CSGS 0.4614767934622058 0.271502024316427 0.32106798033069023\n",
      "Period, R^2, slope, intercept\n",
      "CSIQ -0.24298409825675132 -0.3210348591510893 -0.24205399591997964\n",
      "Period, R^2, slope, intercept\n",
      "CSPI 0.09375469990914544 0.060046185908554206 0.06766353832827053\n",
      "Period, R^2, slope, intercept\n",
      "CTSH 0.08180856129138517 0.08313631494875388 0.0627635637240571\n",
      "Period, R^2, slope, intercept\n",
      "CTXS 0.2213364520545 0.12248381540570594 0.0985195087329485\n",
      "Period, R^2, slope, intercept\n",
      "CVLT 0.08166749765087124 0.05337475152196211 0.029384197779188354\n",
      "Period, R^2, slope, intercept\n",
      "DGII 0.22554340089772493 0.03617476627235243 0.0690426329646724\n",
      "Period, R^2, slope, intercept\n",
      "DSPG 0.14871904757991594 0.06232470331028332 0.06471239719268161\n",
      "Period, R^2, slope, intercept\n",
      "EGAN -0.06982179200154245 0.02422236591634959 -0.0595234204025193\n",
      "Period, R^2, slope, intercept\n",
      "ELTK 0.0827876481381756 0.003494243679129346 0.03088183289597161\n",
      "Period, R^2, slope, intercept\n",
      "EMKR 0.3531857374023038 0.21369040129562072 0.1530370751468592\n",
      "Period, R^2, slope, intercept\n",
      "EPAY -0.10466418638584768 -0.0645168838373143 -0.07624632985779864\n",
      "Period, R^2, slope, intercept\n",
      "ERII -0.190544244647976 -0.06330133999572311 -0.10839864864356755\n",
      "Period, R^2, slope, intercept\n",
      "EVOL 0.08481160790472882 0.027022985433706837 0.05455436253333791\n",
      "Period, R^2, slope, intercept\n",
      "EXTR -0.07049227844148472 0.05330507399874231 -0.03648943255751052\n",
      "Period, R^2, slope, intercept\n",
      "FFIV -0.1977236328777922 -0.08625521553996458 -0.0963656984022729\n",
      "Period, R^2, slope, intercept\n",
      "FISV 0.2835622826898557 0.16957513576238728 0.1837782280651281\n",
      "Period, R^2, slope, intercept\n",
      "FLEX 0.31600418750247544 0.21221760112181154 0.18314831295127096\n",
      "Period, R^2, slope, intercept\n",
      "FORM -0.40848639050709185 -0.1604793232659203 -0.17619113670641295\n",
      "Period, R^2, slope, intercept\n",
      "FSLR 0.052565633675652854 0.05208187872424741 0.050864239807675155\n",
      "Period, R^2, slope, intercept\n",
      "FTNT 0.1674285881383868 0.12849748595294933 0.07901042412612584\n",
      "Period, R^2, slope, intercept\n",
      "GLUU 0.07834387059973778 0.06526461906312694 0.030702719808883856\n",
      "Period, R^2, slope, intercept\n",
      "GOOG 0.20597785889253545 0.12129004626018439 0.08623912312042244\n",
      "Period, R^2, slope, intercept\n",
      "GSIT 0.047476666128325185 0.0028483896548092413 0.019878882685385874\n",
      "Period, R^2, slope, intercept\n",
      "HIMX -0.41043839089390505 -0.2336161363077107 -0.3396795585602949\n",
      "Period, R^2, slope, intercept\n",
      "HLIT -0.5938908355461994 -0.40062402056831764 -0.3722407553901601\n",
      "Period, R^2, slope, intercept\n",
      "HSII -0.23784828978502867 -0.16472628743770937 -0.12235523579298586\n",
      "Period, R^2, slope, intercept\n",
      "HSTM 0.2240830484863252 0.12422746442289868 0.1021642917327008\n",
      "Period, R^2, slope, intercept\n",
      "IDN -0.08813053203947219 -0.0024317130877324344 -0.07329499954457551\n",
      "Period, R^2, slope, intercept\n",
      "IMMR 0.22833928888488936 0.07474535477613387 0.09658233256035381\n",
      "Period, R^2, slope, intercept\n",
      "INOD -0.5593299900126257 -0.09218122959574268 -0.1795452664877993\n",
      "Period, R^2, slope, intercept\n",
      "INTU 0.3923923865209492 0.15809274749266292 0.17609437170923128\n",
      "Period, R^2, slope, intercept\n",
      "IPGP -0.02922320925619931 0.01403451575620097 -0.01644151454874332\n",
      "Period, R^2, slope, intercept\n",
      "ISSC -0.2014341837927121 -0.017148730275170505 -0.10262083349214597\n",
      "Period, R^2, slope, intercept\n",
      "ITRN 0.9983579359030765 0.3233475052114807 0.7161839553682979\n",
      "Period, R^2, slope, intercept\n",
      "IVAC -0.00460540905934847 -0.05040056875706198 -0.0015165768315674817\n",
      "Period, R^2, slope, intercept\n",
      "JCOM 0.4752666038013291 0.20658441561866162 0.20297154309098583\n",
      "Period, R^2, slope, intercept\n",
      "JKHY 0.38353455792185964 0.14666986211458946 0.17283789156070475\n",
      "Period, R^2, slope, intercept\n",
      "JOBS 0.5973248407080917 0.20165991191310384 0.30925878605042617\n",
      "Period, R^2, slope, intercept\n",
      "KFRC 0.34472599790411956 0.12466620416313186 0.13240137669588412\n",
      "Period, R^2, slope, intercept\n",
      "KOPN -0.09269168367915982 -0.058664477132250495 -0.03168827021258363\n",
      "Period, R^2, slope, intercept\n",
      "KTCC -0.03387047886744067 0.018561424278402506 -0.021490833679786728\n",
      "Period, R^2, slope, intercept\n",
      "KVHI 0.03248871782746981 0.004238631297487276 0.012183165611593617\n",
      "Period, R^2, slope, intercept\n",
      "LOGI 0.033874390765690605 0.07794437008788405 0.019578184269247397\n",
      "Period, R^2, slope, intercept\n",
      "LPSN 0.028855952320840664 0.02909813780121484 0.012214084470699589\n",
      "Period, R^2, slope, intercept\n",
      "LPTH 0.36127558715099994 0.12458294554729459 0.20201866981523517\n",
      "Period, R^2, slope, intercept\n",
      "LRCX -0.31154049480887297 -0.13765220051728805 -0.17569107538136242\n",
      "Period, R^2, slope, intercept\n",
      "LTRX -0.03993750275120503 -0.018248446277967595 -0.01724560153853316\n",
      "Period, R^2, slope, intercept\n",
      "MANH 0.23454132243945053 0.17517956503179535 0.12589340932018875\n",
      "Period, R^2, slope, intercept\n",
      "MCHP -0.27765267293670054 -0.1025618608738681 -0.15976349897053727\n",
      "Period, R^2, slope, intercept\n",
      "MGIC 0.2486122442660457 0.09389357042860526 0.13020941114263274\n",
      "Period, R^2, slope, intercept\n",
      "MGRC 0.05416014103376795 0.013733878881301599 0.02798844681253915\n",
      "Period, R^2, slope, intercept\n",
      "MOSY 0.19451708872507298 -0.0023924668385842396 0.0575110771165868\n",
      "Period, R^2, slope, intercept\n",
      "MPWR 0.35982170552313375 0.21577140380936233 0.15620552068907326\n",
      "Period, R^2, slope, intercept\n",
      "MRVL -0.0905405371999885 -0.046622727698427305 -0.06887241370590595\n",
      "Period, R^2, slope, intercept\n",
      "MSFT 0.4871096610491325 0.2178652302666513 0.22385523751973452\n",
      "Period, R^2, slope, intercept\n",
      "MSTR -0.0572902094898765 -0.03843371467070573 -0.04146386500266596\n",
      "Period, R^2, slope, intercept\n",
      "MXIM 0.09786712086915475 0.061281790855610654 0.04797858190511516\n",
      "Period, R^2, slope, intercept\n",
      "NATI 0.03856306591353606 0.025144539975481623 0.024496690262733628\n",
      "Period, R^2, slope, intercept\n",
      "NTAP -0.1251819863422017 -0.03553619556775076 -0.08328907799816589\n",
      "Period, R^2, slope, intercept\n"
     ]
    },
    {
     "name": "stdout",
     "output_type": "stream",
     "text": [
      "NTCT 0.11625550080131666 0.12010700316444711 0.08106735883885338\n",
      "Period, R^2, slope, intercept\n",
      "NVDA -0.3693508651753194 -0.02605324047744642 -0.1370764591579872\n",
      "Period, R^2, slope, intercept\n",
      "OMCL -0.036044197826456764 0.008757402243829343 -0.025428090215868483\n",
      "Period, R^2, slope, intercept\n",
      "OSIS 0.27447401172395863 0.20954017371336917 0.20738408993999594\n",
      "Period, R^2, slope, intercept\n",
      "OTEX 0.07963965926404021 0.050818577162157576 0.018508435232432247\n",
      "Period, R^2, slope, intercept\n",
      "PCTI -0.17368971361408717 -0.03825867278407992 -0.05921721108960573\n",
      "Period, R^2, slope, intercept\n",
      "PDFS -0.2338632168739176 -0.25403191776871886 -0.23955386308340068\n",
      "Period, R^2, slope, intercept\n",
      "PEGA 0.14998802813172216 0.12479458946982463 0.07474553297801449\n",
      "Period, R^2, slope, intercept\n",
      "PLAB 0.3305068009142212 0.04695160413882266 0.08794006883945969\n",
      "Period, R^2, slope, intercept\n",
      "PLUS -0.17881591442818343 -0.029362003106742106 -0.10406155925671956\n",
      "Period, R^2, slope, intercept\n",
      "PRFT 0.17404380756005372 0.10498677646384075 0.11155456306552174\n",
      "Period, R^2, slope, intercept\n",
      "PXLW -0.11167094120826426 0.042047050717064736 -0.04646368136450433\n"
     ]
    }
   ],
   "source": [
    "write_data_to_csv = True\n",
    "if write_data_to_csv == True: \n",
    "    #expected_risky_returns=get_expected_R_CAPM()\n",
    "    #expected_risky_returns=get_expected_R_Oracle(0.2)\n",
    "    expected_risky_returns=get_expected_R_OLS()\n",
    "    expected_risky_returns.to_csv('expected_R.csv', sep=',', header=True, index=True)\n",
    "else:\n",
    "    expected_risky_returns= pd.read_csv('expected_R.csv', index_col = 0).dropna()"
   ]
  },
  {
   "cell_type": "code",
   "execution_count": 15,
   "metadata": {},
   "outputs": [],
   "source": [
    "investment_periods=[]\n",
    "for year in range(end_year-2, end_year):\n",
    "    for j in range(0,4):\n",
    "        investment_periods.append(str(year)+'Q'+str(j+1))"
   ]
  },
  {
   "cell_type": "code",
   "execution_count": 16,
   "metadata": {},
   "outputs": [],
   "source": [
    "# Extract the risky quarterly returns\n",
    "risky_asset_R = pd.DataFrame(index = tickers,columns = investment_periods)\n",
    "expected_asset_R = pd.DataFrame(index = tickers,columns = investment_periods) \n",
    "for year in range(end_year-2,end_year):\n",
    "      for j in range(0,4): \n",
    "            #stock_data['AAPL'].groupby(pd.Grouper(freq='Q'))\n",
    "            mask = (stock_data.index > str(year)+'-'+quarters[j]) & (stock_data.index < str(year)+'-'+quarters[j+1])\n",
    "            quarterly_returns=((stock_data[mask].iloc[-1]- stock_data[mask].iloc[0])/stock_data[mask].iloc[0]).values\n",
    "            #annualized_quarterly_returns=(1+quarterly_returns)**4-1\n",
    "            risky_asset_R.loc[:,str(year)+'Q'+str(j+1)] =quarterly_returns\n",
    "            expected_asset_R.loc[:,str(year)+'Q'+str(j+1)]= expected_risky_returns.loc[:,str(year)+'Q'+str(j+1)]"
   ]
  },
  {
   "cell_type": "code",
   "execution_count": 17,
   "metadata": {},
   "outputs": [],
   "source": [
    "risky_asset_returns=risky_asset_R\n",
    "expected_risky_returns=expected_asset_R"
   ]
  },
  {
   "cell_type": "code",
   "execution_count": 18,
   "metadata": {
    "colab": {
     "base_uri": "https://localhost:8080/",
     "height": 295
    },
    "id": "YvHvV7B6PQPh",
    "outputId": "3421ed28-a65f-4362-d166-990d22dbf1fd"
   },
   "outputs": [
    {
     "data": {
      "image/png": "[encoded data removed]",
      "text/plain": [
       "<Figure size 432x288 with 1 Axes>"
      ]
     },
     "metadata": {
      "needs_background": "light"
     },
     "output_type": "display_data"
    }
   ],
   "source": [
    "# Compare the realized and expected returns\n",
    "# Note that they should appear correlated.\n",
    "\n",
    "# pick a random asset ID to show\n",
    "asset_idx =  tickers[0]\n",
    "\n",
    "plt.plot(investment_periods, expected_risky_returns.loc[asset_idx,:].values,label='expected_return')\n",
    "plt.plot(investment_periods,risky_asset_returns.loc[asset_idx,:].values,label='realized_return',color='r')\n",
    "plt.legend()\n",
    "plt.xlabel('Period')\n",
    "plt.title('Annualized realized returns vs expected returns')\n",
    "plt.show()"
   ]
  },
  {
   "cell_type": "code",
   "execution_count": 19,
   "metadata": {},
   "outputs": [],
   "source": [
    "risky_asset_returns=risky_asset_returns.T\n",
    "expected_risky_returns=expected_risky_returns.T"
   ]
  },
  {
   "cell_type": "code",
   "execution_count": 20,
   "metadata": {},
   "outputs": [],
   "source": [
    "num_steps=np.shape(expected_risky_returns)[0]"
   ]
  },
  {
   "cell_type": "code",
   "execution_count": 21,
   "metadata": {},
   "outputs": [
    {
     "data": {
      "text/plain": [
       "8"
      ]
     },
     "execution_count": 21,
     "metadata": {},
     "output_type": "execute_result"
    }
   ],
   "source": [
    "num_steps"
   ]
  },
  {
   "cell_type": "markdown",
   "metadata": {
    "id": "WqAdjcoFPQPp"
   },
   "source": [
    "### Compute the empirical correlation matrix using realized returns"
   ]
  },
  {
   "cell_type": "code",
   "execution_count": 22,
   "metadata": {
    "colab": {
     "base_uri": "https://localhost:8080/",
     "height": 34
    },
    "id": "sl5JQ3_8PQPs",
    "outputId": "5f93d784-2e83-4a2c-bf2e-23bd42eb5fb8"
   },
   "outputs": [
    {
     "name": "stdout",
     "output_type": "stream",
     "text": [
      "(99, 99)\n"
     ]
    }
   ],
   "source": [
    "cov_mat_r = np.cov(risky_asset_returns.T)  # correlation matrix\n",
    "print(cov_mat_r.shape)\n",
    "D,v = np.linalg.eigh(cov_mat_r)\n",
    "eigenvals = D[::-1]  # put them in a descended order"
   ]
  },
  {
   "cell_type": "code",
   "execution_count": 23,
   "metadata": {
    "colab": {
     "base_uri": "https://localhost:8080/",
     "height": 69
    },
    "id": "H-HzoeHOPQP0",
    "outputId": "96c11580-037d-430d-fe77-5e54635ea519"
   },
   "outputs": [
    {
     "data": {
      "text/plain": [
       "array([1.44142932e+00, 9.32583487e-01, 6.05832266e-01, 4.48157769e-01,\n",
       "       3.15410819e-01, 2.61472712e-01, 2.14440432e-01, 2.56085606e-16,\n",
       "       1.32758295e-16, 1.06307364e-16])"
      ]
     },
     "execution_count": 23,
     "metadata": {},
     "output_type": "execute_result"
    }
   ],
   "source": [
    "# eigenvalues: the largest eigenvalue is the market factor \n",
    "eigenvals[0:10]"
   ]
  },
  {
   "cell_type": "code",
   "execution_count": 24,
   "metadata": {
    "colab": {
     "base_uri": "https://localhost:8080/",
     "height": 156
    },
    "id": "hFC61Ci94nnd",
    "outputId": "fc1d8cde-9ada-4e39-f6e6-3fe3b55559e0"
   },
   "outputs": [
    {
     "data": {
      "text/plain": [
       "tensor([[ 0.0828,  0.0510,  0.0315,  ...,  0.0124,  0.0335,  0.0513],\n",
       "        [ 0.0510,  0.1789,  0.0310,  ...,  0.0070,  0.0272, -0.0620],\n",
       "        [ 0.0315,  0.0310,  0.1144,  ..., -0.0406,  0.0398, -0.1759],\n",
       "        ...,\n",
       "        [ 0.0124,  0.0070, -0.0406,  ...,  0.0528, -0.0039,  0.1020],\n",
       "        [ 0.0335,  0.0272,  0.0398,  ..., -0.0039,  0.0476, -0.0602],\n",
       "        [ 0.0513, -0.0620, -0.1759,  ...,  0.1020, -0.0602,  0.5031]],\n",
       "       dtype=torch.float64)"
      ]
     },
     "execution_count": 24,
     "metadata": {},
     "output_type": "execute_result"
    }
   ],
   "source": [
    "cov_mat_torch = torch.tensor(cov_mat_r)\n",
    "torch.pinverse(cov_mat_torch)"
   ]
  },
  {
   "cell_type": "markdown",
   "metadata": {
    "id": "ohSC6oDePQP5"
   },
   "source": [
    "### Add a riskless bond as one more asset"
   ]
  },
  {
   "cell_type": "code",
   "execution_count": 25,
   "metadata": {
    "id": "F7nwaM28PQP9"
   },
   "outputs": [],
   "source": [
    "num_assets = num_risky_assets + 1\n",
    "bond_val = 100.0\n",
    "init_asset_vals = np.hstack((np.array([bond_val]), stock_data.iloc[0,:].values)) # add the bond to initial assets"
   ]
  },
  {
   "cell_type": "markdown",
   "metadata": {
    "id": "hZQgn_CTPQQE"
   },
   "source": [
    "### Make the initial portfolio "
   ]
  },
  {
   "cell_type": "code",
   "execution_count": 26,
   "metadata": {
    "id": "PyMLBotBPQQH"
   },
   "outputs": [],
   "source": [
    "# consider here two choices: equal or equally-weighted \n",
    "init_port_choice =  'equal' \n",
    "init_cash = 1000.0\n",
    "init_total_asset = np.sum(init_asset_vals)\n",
    "x_vals_init = np.zeros(num_assets)\n",
    "\n",
    "if init_port_choice == 'equal': \n",
    "    # hold equal amounts of cash in each asset\n",
    "    amount_per_asset = init_cash/num_assets\n",
    "    x_vals_init = amount_per_asset * np.ones(num_assets)\n",
    "elif init_port_choice == 'equally_weighted':\n",
    "    amount_per_asset = init_cash/init_total_asset\n",
    "    x_vals_init = amount_per_asset * init_asset_vals "
   ]
  },
  {
   "cell_type": "markdown",
   "metadata": {
    "id": "Zkj8GdPDPQQP"
   },
   "source": [
    "### Make the target portfolio"
   ]
  },
  {
   "cell_type": "code",
   "execution_count": 27,
   "metadata": {
    "colab": {
     "base_uri": "https://localhost:8080/",
     "height": 34
    },
    "id": "LyyKCaPGPQQS",
    "outputId": "bda0d8d5-b848-4c2b-c36b-3f2ac1a1bf78"
   },
   "outputs": [
    {
     "name": "stdout",
     "output_type": "stream",
     "text": [
      "1100.0 3143.416229869479\n"
     ]
    }
   ],
   "source": [
    "# make a target portfolio term structure by defining it as the initial portfolio growing at some fixed and high rate\n",
    "target_portfolio = [init_cash]\n",
    "target_return = 0.15 \n",
    "coeff_target = 1.1 \n",
    "\n",
    "for i in range(1, num_steps):\n",
    "    target_portfolio.append(target_portfolio[i-1]*np.exp(dt * target_return) )\n",
    "    \n",
    "target_portfolio = coeff_target*np.array(target_portfolio)    \n",
    "print(target_portfolio[0], target_portfolio[-1])"
   ]
  },
  {
   "cell_type": "markdown",
   "metadata": {
    "id": "2UMA8UwlPQQc"
   },
   "source": [
    "### Define model parameters"
   ]
  },
  {
   "cell_type": "code",
   "execution_count": 28,
   "metadata": {
    "colab": {
     "base_uri": "https://localhost:8080/",
     "height": 34
    },
    "id": "5G_Y87m2PQQe",
    "outputId": "0cf27618-1f16-4676-9741-4e2c3ce8d466"
   },
   "outputs": [
    {
     "name": "stdout",
     "output_type": "stream",
     "text": [
      "1648.7212707001281 54598.15003314424\n"
     ]
    }
   ],
   "source": [
    "fee_bond = 0.05 \n",
    "fee_stock = 0.015 \n",
    "gamma = 0.95 \n",
    "all_fees = np.zeros(num_risky_assets + 1)\n",
    "all_fees[0] = fee_bond\n",
    "all_fees[1:] = fee_stock\n",
    "Omega_mat = np.diag(all_fees)\n",
    "exp_returns = expected_risky_returns\n",
    "Sigma_r = cov_mat_r\n",
    "\n",
    "# Generate the benchmark target portfolio by growing the initial portfolio value at rate eta\n",
    "target_return =  0.5 \n",
    "benchmark_portf = [init_cash * np.exp(dt * target_return)]\n",
    "\n",
    "for i in range(1,num_steps):\n",
    "    benchmark_portf.append(benchmark_portf[i-1]*np.exp(dt * target_return))   \n",
    "print(benchmark_portf[0], benchmark_portf[-1])"
   ]
  },
  {
   "cell_type": "markdown",
   "metadata": {
    "id": "YT6003xKPQQm"
   },
   "source": [
    "## G-learning\n",
    "\n",
    "Produce a list of trajectories, where each trajectory is a list made of state-action pairs"
   ]
  },
  {
   "cell_type": "code",
   "execution_count": 31,
   "metadata": {},
   "outputs": [],
   "source": [
    "lambd = 0.001 # keep fixed\n",
    "#omega = 1.81\n",
    "beta = 1000.0 # fixed fixed\n",
    "#eta = 1.82\n",
    "#rho = 0.9"
   ]
  },
  {
   "cell_type": "markdown",
   "metadata": {},
   "source": [
    "#### Parameter search for highest sharpe"
   ]
  },
  {
   "cell_type": "code",
   "execution_count": 32,
   "metadata": {},
   "outputs": [],
   "source": [
    "SR_G_max=-10\n",
    "bTune = False"
   ]
  },
  {
   "cell_type": "code",
   "execution_count": 33,
   "metadata": {
    "id": "lCzgn95o8wUD"
   },
   "outputs": [],
   "source": [
    "if bTune:\n",
    " # There is a memory leak in the G_learning_portfolio_opt due to copy() and this may crash\n",
    " for omega in np.arange(1.6,2.5,0.2):\n",
    "  for eta in np.arange(1.6,2.5,0.2):\n",
    "   for rho in np.arange(0.0,1.0,0.2):      \n",
    "\n",
    "    reward_params=[lambd, omega, eta, rho]\n",
    "    print(reward_params)\n",
    "    # Create a G-learner\n",
    "    G_learner = G_learning_portfolio_opt(num_steps,\n",
    "                     reward_params,  \n",
    "                     beta,                \n",
    "                     benchmark_portf,\n",
    "                     gamma, \n",
    "                     num_risky_assets,\n",
    "                     R,\n",
    "                     np.array(expected_risky_returns, dtype='float64'), # array of shape num_steps x num_stocks\n",
    "                     Sigma_r,     # covariance matrix of returns of risky matrix                    \n",
    "                     x_vals_init, # array of initial values of len (num_stocks+1)\n",
    "                     use_for_WM = True) # use for wealth management tasks\n",
    "\n",
    "    G_learner.reset_prior_policy()\n",
    "    error_tol=1.e-8\n",
    "    max_iter_RL = 200\n",
    "    G_learner.G_learning(error_tol, max_iter_RL)\n",
    "\n",
    "    num_sim = 100\n",
    "    #trajs = []\n",
    "    np.random.seed(0)\n",
    "    torch.manual_seed(0)\n",
    "    t_0 = time.time()\n",
    "    x_vals = [x_vals_init]\n",
    "    returns_all = []\n",
    "    consumption=np.array([0]*num_steps, dtype='float64')\n",
    "\n",
    "    for n in range(num_sim):\n",
    "        #this_traj = []\n",
    "        x_t = x_vals_init[:]\n",
    "        returns_array = []\n",
    "        for t in range(0,num_steps):       \n",
    "            mu_t = G_learner.u_bar_prior[t,:] + G_learner.v_bar_prior[t,:].mv(torch.tensor(x_t))\n",
    "            u_t = np.random.multivariate_normal(mu_t.detach().numpy(), G_learner.Sigma_prior[t,:].detach().numpy())\n",
    "            # compute new values of x_t\n",
    "            x_next = x_t + u_t\n",
    "            risky_asset_return = risky_asset_returns.iloc[t,:]\n",
    "            returns = np.hstack((R*dt, risky_asset_return))\n",
    "            x_next = (1+returns)*x_next\n",
    "            port_returns=(x_next.sum() - x_t.sum() - np.sum(u_t) -fee_stock*np.abs(u_t).sum())/x_t.sum()\n",
    "            consumption[t] += np.sum(u_t)\n",
    "            #this_traj.append((x_t, u_t))\n",
    "            x_t = x_next  # rename\n",
    "            returns_array.append(port_returns) \n",
    "        # end the loop over time steps\n",
    "        #trajs.append(this_traj)\n",
    "        returns_all.append(returns_array)\n",
    "\n",
    "    print('Done simulating trajectories in %f sec'% (time.time() - t_0))        \n",
    "   \n",
    "    returns_all_G = returns_all\n",
    "    \n",
    "    SR_G = 0\n",
    "    for i in range(num_sim):\n",
    "      SR_G += (np.mean(returns_all_G[i])-R*dt)/np.std(returns_all_G[i])\n",
    "    \n",
    "    del G_learner, returns_all,port_returns, returns, returns_array\n",
    "    gc.collect()\n",
    "    SR_G/=num_sim\n",
    "    print(SR_G)\n",
    "    if (SR_G> SR_G_max):\n",
    "        SR_G_max=SR_G\n",
    "        best_params=reward_params\n",
    "        "
   ]
  },
  {
   "cell_type": "code",
   "execution_count": 34,
   "metadata": {},
   "outputs": [],
   "source": [
    "lambd = 0.001 # keep fixed\n",
    "omega = 1.8\n",
    "beta = 1000.0 # fixed fixed\n",
    "eta = 2.0\n",
    "rho = 0.8"
   ]
  },
  {
   "cell_type": "code",
   "execution_count": 42,
   "metadata": {},
   "outputs": [
    {
     "name": "stdout",
     "output_type": "stream",
     "text": [
      "[0.001, 1.8, 2.0, 0.8]\n",
      "Doing G-learning, it may take a few seconds...\n",
      "Done simulating trajectories in 16.525012 sec\n"
     ]
    }
   ],
   "source": [
    "reward_params=[lambd, omega, eta, rho]\n",
    "print(reward_params)\n",
    "# Create a G-learner\n",
    "G_learner = G_learning_portfolio_opt(num_steps,\n",
    "                 reward_params,  \n",
    "                 beta,                \n",
    "                 benchmark_portf,\n",
    "                 gamma, \n",
    "                 num_risky_assets,\n",
    "                 R,\n",
    "                 np.array(expected_risky_returns, dtype='float64'), # array of shape num_steps x num_stocks\n",
    "                 Sigma_r,     # covariance matrix of returns of risky matrix                    \n",
    "                 x_vals_init, # array of initial values of len (num_stocks+1)\n",
    "                 use_for_WM = True) # use for wealth management tasks\n",
    "\n",
    "G_learner.reset_prior_policy()\n",
    "error_tol=1.e-8\n",
    "max_iter_RL = 200\n",
    "G_learner.G_learning(error_tol, max_iter_RL)\n",
    "\n",
    "num_sim = 500\n",
    "trajs = []\n",
    "np.random.seed(0)\n",
    "torch.manual_seed(0)\n",
    "t_0 = time.time()\n",
    "x_vals = [x_vals_init]\n",
    "returns_all = []\n",
    "consumption=np.array([0]*num_steps, dtype='float64')\n",
    "\n",
    "for n in range(num_sim):\n",
    "    this_traj = []\n",
    "    x_t = x_vals_init[:]\n",
    "    returns_array = []\n",
    "    for t in range(0,num_steps):       \n",
    "        mu_t = G_learner.u_bar_prior[t,:] + G_learner.v_bar_prior[t,:].mv(torch.tensor(x_t))\n",
    "        u_t = np.random.multivariate_normal(mu_t.detach().numpy(), G_learner.Sigma_prior[t,:].detach().numpy())\n",
    "        # compute new values of x_t\n",
    "        x_next = x_t + u_t\n",
    "        risky_asset_return = risky_asset_returns.iloc[t,:]\n",
    "        returns = np.hstack((R*dt, risky_asset_return))\n",
    "        x_next = (1+returns)*x_next\n",
    "        port_returns=(x_next.sum() - x_t.sum() - np.sum(u_t) -fee_stock*np.abs(u_t).sum())/x_t.sum()\n",
    "        consumption[t] += np.sum(u_t)\n",
    "        this_traj.append((x_t, u_t))\n",
    "        x_t = x_next  # rename\n",
    "        returns_array.append(port_returns) \n",
    "    # end the loop over time steps\n",
    "    trajs.append(this_traj)\n",
    "    returns_all.append(returns_array)\n",
    "\n",
    "print('Done simulating trajectories in %f sec'% (time.time() - t_0))        \n",
    "\n",
    "returns_all_G = returns_all"
   ]
  },
  {
   "cell_type": "code",
   "execution_count": null,
   "metadata": {},
   "outputs": [],
   "source": [
    "#from __future__ import print_function  # for Python2\n",
    "#import sys\n",
    "#max_mem=0\n",
    "#local_vars = list(locals().items())\n",
    "#for var, obj in local_vars:\n",
    "#    mem= sys.getsizeof(obj)\n",
    "#    if mem>max_mem:\n",
    "#        max_mem=mem\n",
    "#        max_var=var\n",
    "#    print(var, mem)   \n",
    "#print(\"---------\")    \n",
    "#print (max_var, max_mem)    "
   ]
  },
  {
   "cell_type": "code",
   "execution_count": null,
   "metadata": {
    "id": "aTWkeFsDPQQu"
   },
   "outputs": [],
   "source": [
    "np.save('State_act_trajs.npy', trajs)  # save trajectories "
   ]
  },
  {
   "cell_type": "code",
   "execution_count": null,
   "metadata": {
    "id": "SNtCvuFMPQQ0"
   },
   "outputs": [],
   "source": [
    "trajs = np.load('State_act_trajs.npy')"
   ]
  },
  {
   "cell_type": "markdown",
   "metadata": {
    "id": "bpnem5H5vZ5H"
   },
   "source": [
    "### Calculate performance of G-learner (Diagnostics only)"
   ]
  },
  {
   "cell_type": "code",
   "execution_count": 43,
   "metadata": {},
   "outputs": [],
   "source": [
    "SR_G = 0\n",
    "for i in range(num_sim):\n",
    "  SR_G += (np.mean(returns_all_G[i])-R*dt)/np.std(returns_all_G[i])\n",
    "SR_G/=num_sim    "
   ]
  },
  {
   "cell_type": "code",
   "execution_count": 44,
   "metadata": {
    "id": "TT9dIJP_t0K_"
   },
   "outputs": [],
   "source": [
    "r_G=np.array([0]*num_steps, dtype='float64')\n",
    "for n in range(num_steps):\n",
    "  for i in range(num_sim):\n",
    "    r_G[n]+=returns_all_G[i][n]\n",
    "  r_G[n]/=num_sim"
   ]
  },
  {
   "cell_type": "code",
   "execution_count": 45,
   "metadata": {},
   "outputs": [
    {
     "data": {
      "text/plain": [
       "Text(0, 0.5, 'Sample Mean Returns')"
      ]
     },
     "execution_count": 45,
     "metadata": {},
     "output_type": "execute_result"
    },
    {
     "data": {
      "image/png": "[encoded data removed]",
      "text/plain": [
       "<Figure size 432x288 with 1 Axes>"
      ]
     },
     "metadata": {
      "needs_background": "light"
     },
     "output_type": "display_data"
    }
   ],
   "source": [
    "plt.plot(r_G, label='G-learning (' + str(np.round(SR_G, 3)) + ')', color='red')\n",
    "#plt.plot(r_fixed, label='Equi-weighted (' + str(np.round(SR_fixed,3)) + ')', color='black')\n",
    "#plt.plot(r_GIRL, label='GIRL (' + str(np.round(SR_GIRL,3)) + ')', color='blue')\n",
    "\n",
    "plt.legend()\n",
    "plt.xlabel('time (quarters)')\n",
    "plt.ylabel('Sample Mean Returns')"
   ]
  },
  {
   "cell_type": "markdown",
   "metadata": {},
   "source": [
    "## Benchmark against the equal weighted portfolio"
   ]
  },
  {
   "cell_type": "code",
   "execution_count": 46,
   "metadata": {},
   "outputs": [
    {
     "name": "stdout",
     "output_type": "stream",
     "text": [
      "Done simulating trajectories in 1.044344 sec\n"
     ]
    }
   ],
   "source": [
    "num_sim = 500\n",
    "t_0 = time.time()\n",
    "x_vals = [x_vals_init]\n",
    "returns_all = []\n",
    "\n",
    "for n in range(num_sim):\n",
    "    \n",
    "    x_t = x_vals_init[:]\n",
    "    returns_array = []\n",
    "    for t in range(0,num_steps): \n",
    "        u_t=0  # don't rebalance\n",
    "        # compute new values of x_t\n",
    "        x_next = x_t + u_t\n",
    "        risky_asset_return = risky_asset_returns.iloc[t,:]\n",
    "        returns = np.hstack((R*dt, risky_asset_return))\n",
    "        #print(returns)\n",
    "        x_next = (1+returns)*x_next\n",
    "        port_returns=(x_next.sum() - x_t.sum() - np.sum(u_t) - fee_stock*np.abs(u_t).sum())/x_t.sum()\n",
    "        \n",
    "        x_t = x_next # rename\n",
    "        returns_array.append(port_returns) \n",
    "    # end the loop over time steps\n",
    "   \n",
    "    returns_all.append(returns_array)\n",
    "\n",
    "print('Done simulating trajectories in %f sec'% (time.time() - t_0))   "
   ]
  },
  {
   "cell_type": "code",
   "execution_count": 47,
   "metadata": {},
   "outputs": [],
   "source": [
    "returns_all_fixed = returns_all"
   ]
  },
  {
   "cell_type": "code",
   "execution_count": 48,
   "metadata": {},
   "outputs": [
    {
     "name": "stdout",
     "output_type": "stream",
     "text": [
      "0.292899296347987\n"
     ]
    }
   ],
   "source": [
    "SR_fixed=0\n",
    "for i in range(num_sim):\n",
    "  SR_fixed+=(np.mean(returns_all_fixed[i])-R*dt)/np.std(returns_all_fixed[i])\n",
    "\n",
    "SR_fixed/=num_sim\n",
    "print(SR_fixed)"
   ]
  },
  {
   "cell_type": "code",
   "execution_count": 49,
   "metadata": {},
   "outputs": [],
   "source": [
    "r_fixed=np.array([0]*num_steps, dtype='float64')\n",
    "for n in range(num_steps):\n",
    "  for i in range(num_sim):\n",
    "    r_fixed[n]+=returns_all_fixed[i][n]\n",
    "  r_fixed[n]/=num_sim"
   ]
  },
  {
   "cell_type": "code",
   "execution_count": 50,
   "metadata": {},
   "outputs": [
    {
     "data": {
      "text/plain": [
       "Text(0, 0.5, 'Sample Mean Returns')"
      ]
     },
     "execution_count": 50,
     "metadata": {},
     "output_type": "execute_result"
    },
    {
     "data": {
      "image/png": "[encoded data removed]",
      "text/plain": [
       "<Figure size 432x288 with 1 Axes>"
      ]
     },
     "metadata": {
      "needs_background": "light"
     },
     "output_type": "display_data"
    }
   ],
   "source": [
    "plt.plot(r_G, label='G-learning (' + str(np.round(SR_G,3)) + ')', color='red')\n",
    "plt.plot(r_fixed, label='Equi-weighted (' + str(np.round(SR_fixed,3)) + ')', color='black')\n",
    "#plt.plot(r_GIRL, label='GIRL (' + str(np.round(SR_GIRL,3)) + ')', color='blue')\n",
    "\n",
    "plt.legend()\n",
    "plt.xlabel('time (quarters)')\n",
    "plt.ylabel('Sample Mean Returns')"
   ]
  },
  {
   "cell_type": "markdown",
   "metadata": {
    "id": "4Wdu1t058d7a"
   },
   "source": [
    "## GIRL\n",
    "Implement the optimizer for finding the optimal G-learning parameters by MLE."
   ]
  },
  {
   "cell_type": "code",
   "execution_count": 75,
   "metadata": {
    "id": "Z2cYmHjoTZKM"
   },
   "outputs": [],
   "source": [
    "def fun(x, grad_=False, rescale=1.0, constraint=False):\n",
    "    y=np.array([0]*4, dtype='float32')\n",
    "    z=x.copy()\n",
    "    y[0] =lambd\n",
    "    #y[0]/=sc[0]\n",
    "    y[1]=z[0]/sc[0]\n",
    "    y[2]=z[1]/sc[1]\n",
    "    y[3]=z[2]/sc[2]\n",
    "    \n",
    "    with torch.no_grad():\n",
    "       if grad_==False:\n",
    "           if constraint:\n",
    "            #y[0] = y[0]**2\n",
    "            #y[0] = lambd\n",
    "            y[1] = 1+y[1]**2\n",
    "            y[2] = 1+y[2]**2\n",
    "            y[3] = 1.0/(1.0+np.exp(-y[3]))\n",
    "           print(y) \n",
    "           ret = rescale*get_loss(trajs,\n",
    "                                 num_steps, \n",
    "                                 benchmark_portf, \n",
    "                                 gamma, \n",
    "                                 num_risky_assets, \n",
    "                                 R, \n",
    "                                 np.array(expected_risky_returns, dtype='float32'),\n",
    "                                 Sigma_r, \n",
    "                                 x_vals_init, \n",
    "                                 max_iter_RL, \n",
    "                                 y,\n",
    "                                 beta,\n",
    "                                 len(trajs), \n",
    "                                 grad=grad_, \n",
    "                                 eps=1e-7).detach().numpy()\n",
    "\n",
    "           print(ret)\n",
    "           return ret\n",
    "       else:\n",
    "            f, df = get_loss(trajs,\n",
    "                                 num_steps, \n",
    "                                 benchmark_portf, \n",
    "                                 gamma, \n",
    "                                 num_risky_assets,\n",
    "                                 R, \n",
    "                                 np.array(expected_risky_returns, dtype='float32'),\n",
    "                                 Sigma_r, \n",
    "                                 x_vals_init, \n",
    "                                 max_iter_RL, \n",
    "                                 y, \n",
    "                                 beta,\n",
    "                                 len(trajs), \n",
    "                                 grad=grad_, \n",
    "                                 eps=1e-7)\n",
    "            return f.detach().numpy()*rescale, df*rescale/sc"
   ]
  },
  {
   "cell_type": "markdown",
   "metadata": {
    "id": "JQXvu1HqPQRc"
   },
   "source": [
    "### GIRL (G-learning IRL)\n",
    "Two different optimizers are used to demonstrate the implementation of GIRL. The first approach is gradient free and the second approach uses the gradient of the loss function. \n",
    "#### Gradient free (ignore this)\n",
    "Initialize the parameters"
   ]
  },
  {
   "cell_type": "code",
   "execution_count": null,
   "metadata": {},
   "outputs": [],
   "source": [
    "# lambd_0 = 0.002\n",
    "omega_0 = 2.5\n",
    "eta_0 = 1.3 \n",
    "beta_0 = beta \n",
    "rho_0 = 0.8\n",
    "beta"
   ]
  },
  {
   "cell_type": "code",
   "execution_count": null,
   "metadata": {},
   "outputs": [],
   "source": [
    "sc=np.array([1,1,1]) # optional re-scaling"
   ]
  },
  {
   "cell_type": "code",
   "execution_count": null,
   "metadata": {},
   "outputs": [],
   "source": [
    "x0=np.array([omega_0, eta_0, rho_0])\n",
    "x0=[np.sqrt(x0[0]-1), np.sqrt(x0[1]-1), np.log(x0[2]/(1-x0[2]))]\n",
    "#x0=np.array([lambd_0, omega_0, eta_0, rho_0])\n",
    "#x0=[np.sqrt(x0[0]-0.001), np.sqrt(x0[1]-1), np.sqrt(x0[2]-1), np.log(x0[3]/(1-x0[3]))]\n",
    "x0*=sc"
   ]
  },
  {
   "cell_type": "code",
   "execution_count": null,
   "metadata": {},
   "outputs": [],
   "source": [
    "# test evaluate the loss function\n",
    "fun(x0, False, 1e-12, constraint=True)"
   ]
  },
  {
   "cell_type": "code",
   "execution_count": null,
   "metadata": {},
   "outputs": [],
   "source": [
    "x_ask=np.array([omega, eta, rho])\n",
    "x_ask=[np.sqrt(x_ask[0]-1), np.sqrt(x_ask[1]-1), np.log(x_ask[2]/(1-x_ask[2]))]\n",
    "fun(x_ask, False, 1e-12, constraint=True)"
   ]
  },
  {
   "cell_type": "code",
   "execution_count": null,
   "metadata": {},
   "outputs": [],
   "source": [
    "# Optimize with the Nelder-Mead method\n",
    "res = minimize(fun, x0, method='Nelder-Mead', args=(False, 1e-12, True), \n",
    "               options={'disp': True, 'maxiter':50}, tol=0.01)"
   ]
  },
  {
   "cell_type": "code",
   "execution_count": null,
   "metadata": {},
   "outputs": [],
   "source": [
    "res"
   ]
  },
  {
   "cell_type": "code",
   "execution_count": null,
   "metadata": {},
   "outputs": [],
   "source": [
    "#(0.001 +res.x[0]**2)/sc[0], (1+res.x[1]**2)/sc[1], (1+res.x[2]**2)/sc[2], 1.0/(1+np.exp(-res.x[3]))/sc[3]\n",
    "results=lambd, (1+res.x[0]**2)/sc[0], (1+res.x[1]**2)/sc[1], 1.0/(1+np.exp(-res.x[2]))/sc[2]\n",
    "print(results)"
   ]
  },
  {
   "cell_type": "markdown",
   "metadata": {
    "id": "1TpYxXmq89QD"
   },
   "source": [
    "#### GIRL (Gradient based) <= use this one\n",
    "Now separately perform GIRL using a gradient based optimizer. This has the advantage of being more accurate but can be less stable."
   ]
  },
  {
   "cell_type": "code",
   "execution_count": 76,
   "metadata": {
    "id": "VPZgTZ789R_H"
   },
   "outputs": [],
   "source": [
    "# initialize the parameters\n",
    "#lambd_0 = 0.001 # lambd is kept fixed\n",
    "omega_0 = 2.3\n",
    "eta_0 = 1.7\n",
    "#beta_0 = beta \n",
    "rho_0 = 0.8"
   ]
  },
  {
   "cell_type": "code",
   "execution_count": 77,
   "metadata": {
    "id": "Z9nO_7hHBGai"
   },
   "outputs": [],
   "source": [
    "#x0=np.array([lambd_0, omega_0, eta_0, rho_0])\n",
    "x0=np.array([omega_0, eta_0, rho_0])"
   ]
  },
  {
   "cell_type": "code",
   "execution_count": 78,
   "metadata": {
    "id": "MLHLm-uU9XSu"
   },
   "outputs": [],
   "source": [
    "# rescaling\n",
    "sc=np.array([1,1,1])"
   ]
  },
  {
   "cell_type": "code",
   "execution_count": 95,
   "metadata": {
    "colab": {
     "base_uri": "https://localhost:8080/",
     "height": 69
    },
    "id": "yEO1I-P2DpLp",
    "outputId": "17c8508d-1071-40fe-9735-2a6d37ae705c"
   },
   "outputs": [
    {
     "name": "stdout",
     "output_type": "stream",
     "text": [
      "[1.0e-03 1.8e+00 2.0e+00 8.0e-01]\n",
      "Doing G-learning, it may take a few seconds...\n",
      "0.20595579561948776\n"
     ]
    }
   ],
   "source": [
    "# test evaluation of the loss function with the true parameters\n",
    "x_ask=np.array([omega, eta, rho])*sc\n",
    "f_ask=fun(x_ask*sc, False, 1e-9, constraint=False)"
   ]
  },
  {
   "cell_type": "code",
   "execution_count": 58,
   "metadata": {},
   "outputs": [
    {
     "name": "stdout",
     "output_type": "stream",
     "text": [
      "[1.0e-03 2.3e+00 1.7e+00 8.0e-01]\n",
      "Doing G-learning, it may take a few seconds...\n",
      "-4.232095618311167\n"
     ]
    },
    {
     "data": {
      "text/plain": [
       "-4.232095618311167"
      ]
     },
     "execution_count": 58,
     "metadata": {},
     "output_type": "execute_result"
    }
   ],
   "source": [
    "# test evaluation of the loss function with the initial parameters\n",
    "fun(x0*sc, False, 1e-9, constraint=False)"
   ]
  },
  {
   "cell_type": "code",
   "execution_count": 161,
   "metadata": {},
   "outputs": [],
   "source": [
    "# choose bounds for parameters\n",
    "bnds=((1.5*sc[0], 2.5*sc[0]), (1.0*sc[1], 2.5*sc[1]), (0.0*sc[2],1.0*sc[2]))"
   ]
  },
  {
   "cell_type": "code",
   "execution_count": 162,
   "metadata": {},
   "outputs": [
    {
     "name": "stdout",
     "output_type": "stream",
     "text": [
      "[1.0e-03 2.3e+00 1.7e+00 8.0e-01]\n",
      "Doing G-learning, it may take a few seconds...\n",
      "4.232095618311167\n",
      "[1.000e-03 2.301e+00 1.700e+00 8.000e-01]\n",
      "Doing G-learning, it may take a few seconds...\n",
      "4.236697410002113\n",
      "[1.000e-03 2.300e+00 1.701e+00 8.000e-01]\n",
      "Doing G-learning, it may take a few seconds...\n",
      "4.214609028226852\n",
      "[1.00e-03 2.30e+00 1.70e+00 8.01e-01]\n",
      "Doing G-learning, it may take a few seconds...\n",
      "4.22753005763805\n",
      "[1.0e-03 1.5e+00 2.5e+00 1.0e+00]\n",
      "Doing G-learning, it may take a few seconds...\n",
      "9.475242491276921\n",
      "[1.000e-03 1.501e+00 2.500e+00 1.000e+00]\n",
      "Doing G-learning, it may take a few seconds...\n",
      "9.480851385080861\n",
      "[1.000e-03 1.500e+00 2.501e+00 1.000e+00]\n",
      "Doing G-learning, it may take a few seconds...\n",
      "9.475821069774497\n",
      "[1.000e-03 1.500e+00 2.500e+00 1.001e+00]\n",
      "Doing G-learning, it may take a few seconds...\n",
      "9.65938458205582\n",
      "[1.0000000e-03 1.9781928e+00 2.0218072e+00 8.8045180e-01]\n",
      "Doing G-learning, it may take a few seconds...\n",
      "1.7776593237351777\n",
      "[1.0000000e-03 1.9791929e+00 2.0218072e+00 8.8045180e-01]\n",
      "Doing G-learning, it may take a few seconds...\n",
      "1.7808825004253985\n",
      "[1.0000000e-03 1.9781928e+00 2.0228071e+00 8.8045180e-01]\n",
      "Doing G-learning, it may take a few seconds...\n",
      "1.774173063653052\n",
      "[1.0000000e-03 1.9781928e+00 2.0218072e+00 8.8145179e-01]\n",
      "Doing G-learning, it may take a few seconds...\n",
      "1.8128917003669145\n",
      "[1.0000000e-03 1.7726259e+00 2.2333617e+00 7.8193933e-01]\n",
      "Doing G-learning, it may take a few seconds...\n",
      "1.4899373193689585\n",
      "[1.0000000e-03 1.7736259e+00 2.2333617e+00 7.8193933e-01]\n",
      "Doing G-learning, it may take a few seconds...\n",
      "1.4865357248258593\n",
      "[1.0000000e-03 1.7726259e+00 2.2343616e+00 7.8193933e-01]\n",
      "Doing G-learning, it may take a few seconds...\n",
      "1.499326139682889\n",
      "[1.0000000e-03 1.7726259e+00 2.2333617e+00 7.8293931e-01]\n",
      "Doing G-learning, it may take a few seconds...\n",
      "1.4770679706701042\n",
      "[1.0000000e-03 1.9305055e+00 2.0730639e+00 7.9947573e-01]\n",
      "Doing G-learning, it may take a few seconds...\n",
      "0.2745036571631432\n",
      "[1.0000000e-03 1.9315056e+00 2.0730639e+00 7.9947573e-01]\n",
      "Doing G-learning, it may take a few seconds...\n",
      "0.27449853993940354\n",
      "[1.0000000e-03 1.9305055e+00 2.0740640e+00 7.9947573e-01]\n",
      "Doing G-learning, it may take a few seconds...\n",
      "0.27574736455965043\n",
      "[1.0000000e-03 1.9305055e+00 2.0730639e+00 8.0047572e-01]\n",
      "Doing G-learning, it may take a few seconds...\n",
      "0.2762520456619263\n",
      "[1.0000000e-03 1.9508841e+00 2.0499134e+00 7.9343724e-01]\n",
      "Doing G-learning, it may take a few seconds...\n",
      "0.24589644224798682\n",
      "[1.0000000e-03 1.9518842e+00 2.0499134e+00 7.9343724e-01]\n",
      "Doing G-learning, it may take a few seconds...\n",
      "0.24609995020854475\n",
      "[1.0000000e-03 1.9508841e+00 2.0509133e+00 7.9343724e-01]\n",
      "Doing G-learning, it may take a few seconds...\n",
      "0.2462452715727091\n",
      "[1.0000000e-03 1.9508841e+00 2.0499134e+00 7.9443723e-01]\n",
      "Doing G-learning, it may take a few seconds...\n",
      "0.24820469613826276\n",
      "[1.0000000e-03 1.9694551e+00 2.0256894e+00 7.7971065e-01]\n",
      "Doing G-learning, it may take a few seconds...\n",
      "0.2414711222535372\n",
      "[1.0000000e-03 1.9704552e+00 2.0256894e+00 7.7971065e-01]\n",
      "Doing G-learning, it may take a few seconds...\n",
      "0.2417412321419716\n",
      "[1.0000000e-03 1.9694551e+00 2.0266895e+00 7.7971065e-01]\n",
      "Doing G-learning, it may take a few seconds...\n",
      "0.24077540679824352\n",
      "[1.0000000e-03 1.9694551e+00 2.0256894e+00 7.8071064e-01]\n",
      "Doing G-learning, it may take a few seconds...\n",
      "0.24105632371735575\n"
     ]
    }
   ],
   "source": [
    "# L-BFGS-B for gradient solver with bounds\n",
    "res = minimize(fun, x0, method='L-BFGS-B', bounds=bnds, args=(False, 1e-9, False), \n",
    "               options={'disp': True, 'iprint':1, 'maxiter':10, 'eps':1e-3,'gtol':1e-6, 'ftol':0.1*abs(f_ask)}, tol=1e-3) "
   ]
  },
  {
   "cell_type": "code",
   "execution_count": 163,
   "metadata": {},
   "outputs": [],
   "source": [
    "res"
   ]
  },
  {
   "cell_type": "code",
   "execution_count": 164,
   "metadata": {
    "colab": {
     "base_uri": "https://localhost:8080/",
     "height": 34
    },
    "id": "9TcGgfihDQG1",
    "outputId": "16c1069e-f90d-443f-f897-87c7d9ea3892"
   },
   "outputs": [
    {
     "name": "stdout",
     "output_type": "stream",
     "text": [
      "[0.001, 1.9694551, 2.0256894, 0.78071064]\n"
     ]
    }
   ],
   "source": [
    "#print results. Note that these may differ from the actual G-learner parameters depending on the optimizer. \n",
    "# The optimizer will attempt to find the closest set of parameters.\n",
    "results=list(res.x/sc)\n",
    "results.insert(0, lambd)\n",
    "print(results)"
   ]
  },
  {
   "cell_type": "markdown",
   "metadata": {},
   "source": [
    "## Evaluate the performance of GIRL"
   ]
  },
  {
   "cell_type": "code",
   "execution_count": 165,
   "metadata": {},
   "outputs": [],
   "source": [
    "# Create a G-learner\n",
    "G_learner = G_learning_portfolio_opt(num_steps,\n",
    "                 results,  \n",
    "                 beta,                \n",
    "                 benchmark_portf,\n",
    "                 gamma, \n",
    "                 num_risky_assets,\n",
    "                 R,\n",
    "                 np.array(expected_risky_returns, dtype='float64'), # array of shape num_steps x num_stocks\n",
    "                 Sigma_r,     # covariance matrix of returns of risky matrix                    \n",
    "                 x_vals_init, # array of initial values of len (num_stocks+1)\n",
    "                 use_for_WM = True) # use for wealth management tasks"
   ]
  },
  {
   "cell_type": "code",
   "execution_count": 166,
   "metadata": {},
   "outputs": [
    {
     "name": "stdout",
     "output_type": "stream",
     "text": [
      "Doing G-learning, it may take a few seconds...\n"
     ]
    }
   ],
   "source": [
    "G_learner.reset_prior_policy()\n",
    "G_learner.G_learning(error_tol, max_iter_RL)"
   ]
  },
  {
   "cell_type": "code",
   "execution_count": 167,
   "metadata": {},
   "outputs": [
    {
     "name": "stdout",
     "output_type": "stream",
     "text": [
      "Done simulating trajectories in 16.721985 sec\n"
     ]
    }
   ],
   "source": [
    "num_sim = 500\n",
    "\n",
    "np.random.seed(44)\n",
    "torch.manual_seed(44)\n",
    "t_0 = time.time()\n",
    "x_vals = [x_vals_init]\n",
    "returns_all = []\n",
    "consumption_GIRL=np.array([0]*num_steps, dtype='float64')\n",
    "\n",
    "for n in range(num_sim):\n",
    "    \n",
    "    x_t = x_vals_init[:]\n",
    "    returns_array = []\n",
    "    for t in range(0,num_steps):      \n",
    "        mu_t = G_learner.u_bar_prior[t,:] + G_learner.v_bar_prior[t,:].mv(torch.tensor(x_t))\n",
    "        u_t = np.random.multivariate_normal(mu_t.detach().numpy(), G_learner.Sigma_prior[t,:].detach().numpy())\n",
    "        # compute new values of x_t\n",
    "        x_next = x_t +u_t\n",
    "        risky_asset_return = risky_asset_returns.iloc[t,:]\n",
    "        returns = np.hstack((R*dt, risky_asset_return))\n",
    "        x_next = (1+returns)*x_next\n",
    "        port_returns=(x_next.sum() -x_t.sum() -np.sum(u_t) - fee_stock*np.abs(u_t).sum())/x_t.sum()\n",
    "        consumption_GIRL[t] += np.sum(u_t)\n",
    "        x_t = x_next # rename\n",
    "        returns_array.append(port_returns) \n",
    "    # end the loop over time steps\n",
    "    returns_all.append(returns_array)\n",
    "\n",
    "print('Done simulating trajectories in %f sec'% (time.time() - t_0))        "
   ]
  },
  {
   "cell_type": "code",
   "execution_count": 168,
   "metadata": {},
   "outputs": [
    {
     "data": {
      "text/plain": [
       "Text(0, 0.5, 'Consumption')"
      ]
     },
     "execution_count": 168,
     "metadata": {},
     "output_type": "execute_result"
    },
    {
     "data": {
      "image/png": "[encoded data removed]",
      "text/plain": [
       "<Figure size 432x288 with 1 Axes>"
      ]
     },
     "metadata": {
      "needs_background": "light"
     },
     "output_type": "display_data"
    }
   ],
   "source": [
    "plt.plot(investment_periods,consumption/num_sim, label='G-learning (' + str(np.round(np.sum(consumption/num_sim),3)) + ')', color='red')\n",
    "plt.plot(investment_periods,consumption_GIRL/num_sim, label='GIRL (' + str(np.round(np.sum(consumption_GIRL/num_sim),3)) + ')', color='blue')\n",
    "plt.legend()\n",
    "plt.xlabel('Period')\n",
    "plt.ylabel('Consumption')"
   ]
  },
  {
   "cell_type": "code",
   "execution_count": 169,
   "metadata": {},
   "outputs": [
    {
     "name": "stdout",
     "output_type": "stream",
     "text": [
      "0.593074527877653\n"
     ]
    }
   ],
   "source": [
    "returns_all_GIRL=returns_all\n",
    "\n",
    "SR_GIRL=0\n",
    "for i in range(num_sim):\n",
    "  SR_GIRL+=(np.mean(returns_all_GIRL[i])-R*dt)/np.std(returns_all_GIRL[i])\n",
    "\n",
    "SR_GIRL/=num_sim\n",
    "print(SR_GIRL)\n",
    "\n",
    "r_GIRL=np.array([0]*num_steps, dtype='float64')\n",
    "for n in range(num_steps):\n",
    "  for i in range(num_sim):\n",
    "    r_GIRL[n]+=returns_all_GIRL[i][n]\n",
    "  r_GIRL[n]/=num_sim"
   ]
  },
  {
   "cell_type": "code",
   "execution_count": 170,
   "metadata": {},
   "outputs": [
    {
     "data": {
      "text/plain": [
       "Text(0, 0.5, 'Sample Mean Returns')"
      ]
     },
     "execution_count": 170,
     "metadata": {},
     "output_type": "execute_result"
    },
    {
     "data": {
      "image/png": "[encoded data removed]",
      "text/plain": [
       "<Figure size 432x288 with 1 Axes>"
      ]
     },
     "metadata": {
      "needs_background": "light"
     },
     "output_type": "display_data"
    }
   ],
   "source": [
    "plt.plot(investment_periods, r_G, label='G-learning (' + str(np.round(SR_G,3)) + ')', color='red')\n",
    "plt.plot(investment_periods,r_fixed, label='Equi-weighted (' + str(np.round(SR_fixed,3)) + ')', color='black')\n",
    "plt.plot(investment_periods,r_GIRL, label='GIRL (' + str(np.round(SR_GIRL,3)) + ')', color='blue')\n",
    "\n",
    "plt.legend()\n",
    "plt.xlabel('time (quarters)')\n",
    "plt.ylabel('Sample Mean Returns')"
   ]
  },
  {
   "cell_type": "code",
   "execution_count": null,
   "metadata": {},
   "outputs": [],
   "source": []
  }
 ],
 "metadata": {
  "colab": {
   "collapsed_sections": [],
   "machine_shape": "hm",
   "name": "Wealth_Management_GIRL.ipynb",
   "provenance": []
  },
  "kernelspec": {
   "display_name": "Python 3",
   "language": "python",
   "name": "python3"
  },
  "language_info": {
   "codemirror_mode": {
    "name": "ipython",
    "version": 3
   },
   "file_extension": ".py",
   "mimetype": "text/x-python",
   "name": "python",
   "nbconvert_exporter": "python",
   "pygments_lexer": "ipython3",
   "version": "3.7.3"
  }
 },
 "nbformat": 4,
 "nbformat_minor": 1
}
